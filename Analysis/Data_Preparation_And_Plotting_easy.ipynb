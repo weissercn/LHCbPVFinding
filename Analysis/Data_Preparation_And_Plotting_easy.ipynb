{
 "cells": [
  {
   "cell_type": "markdown",
   "metadata": {},
   "source": [
    "# PvFinding IPython Notebook"
   ]
  },
  {
   "cell_type": "markdown",
   "metadata": {},
   "source": [
    "## Setup"
   ]
  },
  {
   "cell_type": "code",
   "execution_count": 1,
   "metadata": {},
   "outputs": [
    {
     "name": "stdout",
     "output_type": "stream",
     "text": [
      "Welcome to JupyROOT 6.10/08\n"
     ]
    }
   ],
   "source": [
    "#Imports\n",
    "import time\n",
    "import os, sys\n",
    "import numpy as np\n",
    "import pandas as pd\n",
    "import matplotlib.pyplot as plt\n",
    "%matplotlib inline\n",
    "\n",
    "import ROOT\n",
    "import root_numpy\n",
    "import rootpy\n",
    "from rootpy.io import root_open\n",
    "\n",
    "import json\n",
    "from scipy import sparse"
   ]
  },
  {
   "cell_type": "code",
   "execution_count": 2,
   "metadata": {
    "collapsed": true
   },
   "outputs": [],
   "source": [
    "def encode(labels):\n",
    "    return (labels -100)/300\n",
    "def decode(enc_labels):\n",
    "    return (labels*300)+100"
   ]
  },
  {
   "cell_type": "code",
   "execution_count": 2,
   "metadata": {},
   "outputs": [
    {
     "data": {
      "text/plain": [
       "0L"
      ]
     },
     "execution_count": 2,
     "metadata": {},
     "output_type": "execute_result"
    },
    {
     "name": "stdout",
     "output_type": "stream",
     "text": [
      "-------------------------\n",
      "Set LHCb Style - Feb 2012\n",
      "-------------------------\n"
     ]
    }
   ],
   "source": [
    "#LHCb Style\n",
    "ROOT.gROOT.ProcessLine('.L lhcbStyle_modified.C')\n",
    "ROOT.gROOT.ProcessLine('lhcbStyle()')"
   ]
  },
  {
   "cell_type": "code",
   "execution_count": 8,
   "metadata": {
    "collapsed": true
   },
   "outputs": [],
   "source": [
    "def fun_eta_mom(px, py, pz): return np.arctanh(pz/np.sqrt(np.power(px, 2.)+ np.power(py, 2.) + np.power(pz, 2.)))\n",
    "def fun_eta_det(x, y, z): return np.arctanh(z/np.sqrt(np.power(x, 2.)+ np.power(y, 2.) + np.power(z, 2.)))\n",
    "def fun_eta_pvr(x, y, z, zpvr): return np.arctanh((z- zpvr)/np.sqrt(np.power(x, 2.)+ np.power(y, 2.) + np.power((z - zpvr), 2.)))\n",
    "def fun_phi(x,y): return arctan(y/x)"
   ]
  },
  {
   "cell_type": "code",
   "execution_count": 3,
   "metadata": {},
   "outputs": [
    {
     "data": {
      "text/plain": [
       "[<ROOT.TBranchElement object (\"pvr_x\") at 0x7fdd4d2d0230>,\n",
       " <ROOT.TBranchElement object (\"pvr_y\") at 0x7fdd4d2d4690>,\n",
       " <ROOT.TBranchElement object (\"pvr_z\") at 0x7fdd4d2ac2c0>,\n",
       " <ROOT.TBranchElement object (\"hit_x\") at 0x7fdd4d2d4b90>,\n",
       " <ROOT.TBranchElement object (\"hit_y\") at 0x7fdd4d2d5010>,\n",
       " <ROOT.TBranchElement object (\"hit_z\") at 0x7fdd4d2d5540>,\n",
       " <ROOT.TBranchElement object (\"hit_prt\") at 0x7fdd4d2d5a70>,\n",
       " <ROOT.TBranchElement object (\"prt_pid\") at 0x7fdd4d2d5fa0>,\n",
       " <ROOT.TBranchElement object (\"prt_px\") at 0x7fdd4d2d2440>,\n",
       " <ROOT.TBranchElement object (\"prt_py\") at 0x7fdd4d2d2b90>,\n",
       " <ROOT.TBranchElement object (\"prt_pz\") at 0x7fdd4d2d7d80>,\n",
       " <ROOT.TBranchElement object (\"prt_e\") at 0x7fdd4d2d8890>,\n",
       " <ROOT.TBranchElement object (\"prt_x\") at 0x7fdd4d2d9420>,\n",
       " <ROOT.TBranchElement object (\"prt_y\") at 0x7fdd4d2d9fb0>,\n",
       " <ROOT.TBranchElement object (\"prt_z\") at 0x7fdd4d2dab40>]"
      ]
     },
     "execution_count": 3,
     "metadata": {},
     "output_type": "execute_result"
    }
   ],
   "source": [
    "f = ROOT.TFile.Open('../pvs_weisser_easy.root', 'read')\n",
    "t = f.Get(\"data\")\n",
    "lst = t.GetListOfBranches()\n",
    "[l for l in lst] \n"
   ]
  },
  {
   "cell_type": "markdown",
   "metadata": {},
   "source": [
    "## Quick ROOTPY plots"
   ]
  },
  {
   "cell_type": "code",
   "execution_count": 11,
   "metadata": {
    "collapsed": true
   },
   "outputs": [],
   "source": [
    "# Rootpy plots disregard the structure of the trees. Hence, only use them if you want \n",
    "# to compare variables with the same prefix (e.g. prt_z and prt_pid) integrated over all events."
   ]
  },
  {
   "cell_type": "code",
   "execution_count": 20,
   "metadata": {},
   "outputs": [],
   "source": [
    "myfile = rootpy.io.root_open('../pvs_weisser_easy.root')\n",
    "mytree = myfile.data"
   ]
  },
  {
   "cell_type": "code",
   "execution_count": 21,
   "metadata": {},
   "outputs": [
    {
     "name": "stderr",
     "output_type": "stream",
     "text": [
      "INFO:ROOT.TCanvas.Print] png file /var/folders/8p/9pp6lmgn3pz6p4n1jpgv93f00000gn/T/tmpEARAGV.png has been created\n"
     ]
    },
    {
     "data": {
      "image/png": "[encoded data removed]",
      "text/plain": [
       "Hist2D('Tree_he3uvMt7GZAzEQVs4qnWMM')"
      ]
     },
     "execution_count": 21,
     "metadata": {},
     "output_type": "execute_result"
    }
   ],
   "source": [
    "#hist = mytree.Draw('hit_y:hit_x',\n",
    "hist = mytree.Draw('pvr_y:pvr_z',\n",
    "                   #selection='0 < hit_x < 40',\n",
    "                   linecolor='red',\n",
    "                   fillstyle='.',\n",
    "                   options='',\n",
    "                  create_hist = True)\n",
    "#hist.SetStats(False)\n",
    "\n",
    "#hist.Title('hit_x')\n",
    "#hist.GetYAxis().SetTitle('hit_y')\n",
    "\n",
    "hist"
   ]
  },
  {
   "cell_type": "markdown",
   "metadata": {},
   "source": [
    "## Plots respecting the tree structure"
   ]
  },
  {
   "cell_type": "code",
   "execution_count": 6,
   "metadata": {},
   "outputs": [
    {
     "name": "stderr",
     "output_type": "stream",
     "text": [
      "WARNING:ROOT.TCanvas.Constructor] Deleting canvas with same name: c1\n"
     ]
    }
   ],
   "source": [
    "cv = ROOT.TCanvas('c1','c1',650,450)\n",
    "\n",
    "#hist_prt_rhoz = ROOT.TH2F(\"Prt starting positions rho z\", \"Prt starting positions; z [mm]; rho = sqrt(x^2 + y^2) [mm]; Events\", 100, -200, 400, 100, 0, 3.)\n",
    "hist_prt_rhoz = ROOT.TH2F(\"Prt starting positions rho z\", \"Prt starting positions; z [mm]; rho = sqrt(x^2 + y^2) [mm]; Events\", 100, -300, 800, 100, 0, 70.)\n",
    "\n",
    "hist_prt_z = ROOT.TH1F(\"Prt starting positions z\", \"Prt starting positions; z [mm]; Events\", 100, -300, 800)\n",
    "\n",
    "hist_prt_eta_mom = ROOT.TH1F(\"Pseudorapidity of particle momenta\", \"Pseudorapidity of particle momenta; Pseudorapidity eta; Events\", 600, -6, 6)\n",
    "\n",
    "\n",
    "hist_hit_xy = ROOT.TH2F(\"Hit positions xy\", \"Hit positions; x [mm]; y [mm]; Events\", 100, -45, 45, 100, -45, 45)\n",
    "hist_hit_rhoz = ROOT.TH2F(\"Hit positions rho z\", \"Hit positions; z [mm]; rho = sqrt(x^2 + y^2) [mm]; Events\",  100, -300, 800, 100, 0, 70)\n",
    "\n",
    "hist_hit_eta = ROOT.TH1F(\"Pseudorapidity of detector hits\", \"Pseudorapidity of detector hits; Pseudorapidity eta; Events\", 600, -6, 6)\n",
    "\n",
    "\n",
    "hist_pvr_z = ROOT.TH1F(\"Pvr z\", \"Pvr; z [mm]; Events\", 100, -300, 800)\n",
    "\n",
    "\n"
   ]
  },
  {
   "cell_type": "code",
   "execution_count": 9,
   "metadata": {},
   "outputs": [
    {
     "name": "stdout",
     "output_type": "stream",
     "text": [
      "Starting\n",
      "e_i :\t                  | \t0.0  out of  10k\n",
      "e_i :\t"
     ]
    }
   ],
   "source": [
    "print \"Starting\"\n",
    "print \"e_i :\\t                 \",\n",
    "for e_i, event in enumerate(t):\n",
    "    #print \"t.GetEntry(e_i)\", t.GetEntry(e_i)\n",
    "    #print \"event\", event\n",
    "    \n",
    "    \n",
    "    #assert (event == t.GetEntry(e_i))\n",
    "    if (e_i%100==0 ): print \"|\",\n",
    "    if (e_i%1000==0 ): print \"\\t{}  out of  {}k\\ne_i :\\t\".format(e_i/1000., 10 ),\n",
    "    \n",
    "    #print len(event.prt_x)\n",
    "    for prt_i in range(len(event.prt_x)):\n",
    "        hist_prt_rhoz.Fill(event.prt_z[prt_i], np.sqrt(np.power(event.prt_x[prt_i],2.) + np.power(event.prt_y[prt_i],2.)))\n",
    "        hist_prt_z.Fill(event.prt_z[prt_i])\n",
    "        hist_prt_eta_mom.Fill(fun_eta_mom(event.prt_px[prt_i], event.prt_py[prt_i], event.prt_pz[prt_i]))\n",
    "        \n",
    "    #len([px for px in event.prt_x])\n",
    "    #print len(event.hit_x)\n",
    "    for hit_i in range(len(event.hit_x)):\n",
    "        hist_hit_xy.Fill(event.hit_x[hit_i], event.hit_y[hit_i])\n",
    "        hist_hit_rhoz.Fill(event.hit_z[hit_i], np.sqrt(np.power(event.hit_x[hit_i],2.) + np.power(event.hit_y[hit_i],2.)))\n",
    "        hist_hit_eta.Fill(fun_eta_det(event.hit_x[hit_i], event.hit_y[hit_i], event.hit_z[hit_i]))\n",
    "        \n",
    "        \n",
    "    assert (len(event.pvr_z)==1), \"More than 1 pvr in the event\"\n",
    "    for pvr_i in range(len(event.pvr_z)):\n",
    "        hist_pvr_z.Fill(event.pvr_z[pvr_i])\n",
    "    #print \"before sleep\"\n",
    "    #time.sleep(10)\n",
    "    "
   ]
  },
  {
   "cell_type": "code",
   "execution_count": 16,
   "metadata": {},
   "outputs": [
    {
     "name": "stderr",
     "output_type": "stream",
     "text": [
      "INFO:ROOT.TCanvas.Print] png file plots/prt_rhoz.png has been created\n",
      "INFO:ROOT.TCanvas.Print] png file plots/prt_z.png has been created\n",
      "INFO:ROOT.TCanvas.Print] png file plots/prt_eta_mom.png has been created\n",
      "INFO:ROOT.TCanvas.Print] png file plots/hit_xy.png has been created\n",
      "INFO:ROOT.TCanvas.Print] png file plots/hit_rhoz.png has been created\n",
      "INFO:ROOT.TCanvas.Print] png file plots/hit_eta.png has been created\n",
      "INFO:ROOT.TCanvas.Print] png file plots/pvr_z.png has been created\n"
     ]
    }
   ],
   "source": [
    "hist_prt_rhoz.SetStats(False)\n",
    "hist_prt_rhoz.Draw(\"colz\")\n",
    "cv.SaveAs(\"plots/prt_rhoz.png\")\n",
    "\n",
    "hist_prt_z.SetStats(False)\n",
    "hist_prt_z.Draw()\n",
    "cv.SaveAs(\"plots/prt_z.png\")\n",
    "\n",
    "hist_prt_eta_mom.SetStats(False)\n",
    "hist_prt_eta_mom.Draw()\n",
    "cv.SaveAs(\"plots/prt_eta_mom.png\")\n",
    "\n",
    "\n",
    "hist_hit_xy.SetStats(False)\n",
    "hist_hit_xy.Draw(\"colz\")\n",
    "cv.SaveAs(\"plots/hit_xy.png\")\n",
    "\n",
    "hist_hit_rhoz.SetStats(False)\n",
    "hist_hit_rhoz.Draw(\"colz\")\n",
    "cv.SaveAs(\"plots/hit_rhoz.png\")\n",
    "\n",
    "hist_hit_eta.SetStats(False)\n",
    "hist_hit_eta.Draw(\"colz\")\n",
    "cv.SaveAs(\"plots/hit_eta.png\")\n",
    "\n",
    "\n",
    "hist_pvr_z.SetStats(False)\n",
    "hist_pvr_z.Draw()\n",
    "cv.SaveAs(\"plots/pvr_z.png\")\n"
   ]
  },
  {
   "cell_type": "markdown",
   "metadata": {},
   "source": [
    "## Looking at One event"
   ]
  },
  {
   "cell_type": "code",
   "execution_count": 3,
   "metadata": {},
   "outputs": [],
   "source": [
    "cv = ROOT.TCanvas('c1','c1',650,450)\n",
    "#hist_prt_rhoz_example = ROOT.TH2F(\"Prt starting positions rho z\", \"Prt starting positions; z [mm]; rho = sqrt(x^2 + y^2) [mm]; Events\", 100, -200, 400, 100, 0, 3.)\n",
    "\n",
    "hist_prt_rhoz_example, hist_hit_xy_example, hist_hit_rhoz_example, hist_hit_zx_example, hist_hit_zy_example, vect_pvr_pos_example = [], [], [], [], [], []\n",
    "\n",
    "for i in range(6):\n",
    "    hist_prt_rhoz_example.append(ROOT.TH2F(\"Prt starting positions rho z example{}\".format(i), \"Prt starting positions example{}; z [mm]; rho = sqrt(x^2 + y^2) [mm]; Events\".format(i), 100, -300, 800, 100, 0, 70.))\n",
    "\n",
    "\n",
    "\n",
    "    hist_hit_xy_example.append(ROOT.TH2F(\"Hit positions xy example{}\".format(i), \"Hit positions example{}; x [mm]; y [mm]; Events\".format(i), 100, -45, 45, 100, -45, 45))\n",
    "    hist_hit_rhoz_example.append(ROOT.TH2F(\"Hit positions rho z example{}\".format(i), \"Hit positions example{}; z [mm]; rho = sqrt(x^2 + y^2) [mm]; Events\".format(i),  100, -300, 800, 100, 0, 70))\n",
    "    hist_hit_zx_example.append(ROOT.TH2F(\"Hit positions zx example{}\".format(i), \"Hit positions example{}; z [mm]; x [mm]; Events\".format(i), 100, -300, 800, 100, -45, 45))\n",
    "    hist_hit_zy_example.append(ROOT.TH2F(\"Hit positions zy example{}\".format(i), \"Hit positions example{}; z [mm]; y [mm]; Events\".format(i), 100, -300, 800, 100, -45, 45))\n",
    "\n",
    "    \n",
    "    vect_pvr_pos_example.append([-100, -100, -100])\n"
   ]
  },
  {
   "cell_type": "code",
   "execution_count": 4,
   "metadata": {},
   "outputs": [
    {
     "name": "stdout",
     "output_type": "stream",
     "text": [
      "301\n",
      "60\n",
      "48\n",
      "168\n",
      "10\n",
      "146\n"
     ]
    }
   ],
   "source": [
    "\n",
    "\n",
    "\n",
    "for i in range(6):\n",
    "    if i==0: event = t.__iter__().next()\n",
    "    t.GetEntry(i)\n",
    "    \n",
    "    print len(event.prt_x)\n",
    "    for prt_i in range(len(event.prt_x)):\n",
    "        hist_prt_rhoz_example[i].Fill(event.prt_z[prt_i], np.sqrt(np.power(event.prt_x[prt_i],2.) + np.power(event.prt_y[prt_i],2.)))\n",
    "\n",
    "    #len([px for px in event.prt_x])\n",
    "    #print len(event.hit_x)\n",
    "    for hit_i in range(len(event.hit_x)):\n",
    "        hist_hit_xy_example[i].Fill(event.hit_x[hit_i], event.hit_y[hit_i])\n",
    "        hist_hit_rhoz_example[i].Fill(event.hit_z[hit_i], np.sqrt(np.power(event.hit_x[hit_i],2.) + np.power(event.hit_y[hit_i],2.)))\n",
    "        hist_hit_zx_example[i].Fill(event.hit_z[hit_i], event.hit_x[hit_i])\n",
    "        hist_hit_zy_example[i].Fill(event.hit_z[hit_i], event.hit_y[hit_i])\n",
    "\n",
    "    #print \"Number of PVs in event : \", len(event.pvr_z)\n",
    "    assert (len(event.pvr_z)==1), \"More than 1 pvr in the event\"\n",
    "    for pvr_i in range(len(event.pvr_z)):\n",
    "        vect_pvr_pos_example[i]= [event.pvr_x[pvr_i], event.pvr_y[pvr_i], event.pvr_z[pvr_i]]\n",
    "\n",
    "\n",
    "    #print \"before sleep\"\n",
    "    #time.sleep(10)"
   ]
  },
  {
   "cell_type": "code",
   "execution_count": 5,
   "metadata": {},
   "outputs": [
    {
     "name": "stderr",
     "output_type": "stream",
     "text": [
      "INFO:ROOT.TCanvas.Print] png file plots/prt_rhoz_example_0.png has been created\n",
      "INFO:ROOT.TCanvas.Print] png file plots/hit_xy_example_0.png has been created\n",
      "INFO:ROOT.TCanvas.Print] png file plots/hit_rhoz_example_0.png has been created\n",
      "INFO:ROOT.TCanvas.Print] png file plots/hit_zx_example_0.png has been created\n",
      "INFO:ROOT.TCanvas.Print] png file plots/hit_zy_example_0.png has been created\n",
      "INFO:ROOT.TCanvas.Print] png file plots/prt_rhoz_example_1.png has been created\n",
      "INFO:ROOT.TCanvas.Print] png file plots/hit_xy_example_1.png has been created\n",
      "INFO:ROOT.TCanvas.Print] png file plots/hit_rhoz_example_1.png has been created\n",
      "INFO:ROOT.TCanvas.Print] png file plots/hit_zx_example_1.png has been created\n",
      "INFO:ROOT.TCanvas.Print] png file plots/hit_zy_example_1.png has been created\n",
      "INFO:ROOT.TCanvas.Print] png file plots/prt_rhoz_example_2.png has been created\n",
      "INFO:ROOT.TCanvas.Print] png file plots/hit_xy_example_2.png has been created\n",
      "INFO:ROOT.TCanvas.Print] png file plots/hit_rhoz_example_2.png has been created\n",
      "INFO:ROOT.TCanvas.Print] png file plots/hit_zx_example_2.png has been created\n",
      "INFO:ROOT.TCanvas.Print] png file plots/hit_zy_example_2.png has been created\n",
      "INFO:ROOT.TCanvas.Print] png file plots/prt_rhoz_example_3.png has been created\n",
      "INFO:ROOT.TCanvas.Print] png file plots/hit_xy_example_3.png has been created\n",
      "INFO:ROOT.TCanvas.Print] png file plots/hit_rhoz_example_3.png has been created\n",
      "INFO:ROOT.TCanvas.Print] png file plots/hit_zx_example_3.png has been created\n",
      "INFO:ROOT.TCanvas.Print] png file plots/hit_zy_example_3.png has been created\n",
      "INFO:ROOT.TCanvas.Print] png file plots/prt_rhoz_example_4.png has been created\n",
      "INFO:ROOT.TCanvas.Print] png file plots/hit_xy_example_4.png has been created\n",
      "INFO:ROOT.TCanvas.Print] png file plots/hit_rhoz_example_4.png has been created\n",
      "INFO:ROOT.TCanvas.Print] png file plots/hit_zx_example_4.png has been created\n",
      "INFO:ROOT.TCanvas.Print] png file plots/hit_zy_example_4.png has been created\n",
      "INFO:ROOT.TCanvas.Print] png file plots/prt_rhoz_example_5.png has been created\n",
      "INFO:ROOT.TCanvas.Print] png file plots/hit_xy_example_5.png has been created\n",
      "INFO:ROOT.TCanvas.Print] png file plots/hit_rhoz_example_5.png has been created\n",
      "INFO:ROOT.TCanvas.Print] png file plots/hit_zx_example_5.png has been created\n",
      "INFO:ROOT.TCanvas.Print] png file plots/hit_zy_example_5.png has been created\n"
     ]
    }
   ],
   "source": [
    "for i in range(6):\n",
    "\n",
    "    \n",
    "    hist_prt_rhoz_example[i].SetStats(False)\n",
    "    hist_prt_rhoz_example[i].Draw(\"colz\")\n",
    "    mrkr = ROOT.TMarker(vect_pvr_pos_example[i][2], np.sqrt(np.power(vect_pvr_pos_example[i][0],2.) + np.power(vect_pvr_pos_example[i][1],2.)), 5)\n",
    "    mrkr.SetMarkerColor(ROOT.kRed)\n",
    "    mrkr.SetMarkerSize(2)\n",
    "    #mrkr.SetMarkerStyle(47)\n",
    "    mrkr.Draw(\"Red same\")\n",
    "    cv.SaveAs(\"plots/prt_rhoz_example_{}.png\".format(i))\n",
    "\n",
    "    hist_hit_xy_example[i].SetStats(False)\n",
    "    hist_hit_xy_example[i].Draw(\"colz\")\n",
    "    mrkr = ROOT.TMarker(vect_pvr_pos_example[i][0], vect_pvr_pos_example[i][1], 5)\n",
    "    mrkr.SetMarkerColor(ROOT.kRed)\n",
    "    mrkr.SetMarkerSize(2)\n",
    "    mrkr.SetMarkerStyle(47)\n",
    "    mrkr.Draw(\"Red same\")\n",
    "    cv.SaveAs(\"plots/hit_xy_example_{}.png\".format(i))\n",
    "\n",
    "    hist_hit_rhoz_example[i].SetStats(False)\n",
    "    hist_hit_rhoz_example[i].Draw(\"colz\")\n",
    "    mrkr = ROOT.TMarker(vect_pvr_pos_example[i][2], np.sqrt(np.power(vect_pvr_pos_example[i][0],2.) + np.power(vect_pvr_pos_example[i][1],2.)), 5)\n",
    "    mrkr.SetMarkerColor(ROOT.kRed)\n",
    "    mrkr.SetMarkerSize(2)\n",
    "    mrkr.SetMarkerStyle(47)\n",
    "    mrkr.Draw(\"Red same\")\n",
    "    cv.SaveAs(\"plots/hit_rhoz_example_{}.png\".format(i))\n",
    "    \n",
    "    hist_hit_zx_example[i].SetStats(False)\n",
    "    hist_hit_zx_example[i].Draw(\"colz\")\n",
    "    mrkr = ROOT.TMarker(vect_pvr_pos_example[i][2], vect_pvr_pos_example[i][0], 5)\n",
    "    mrkr.SetMarkerColor(ROOT.kRed)\n",
    "    mrkr.SetMarkerSize(2)\n",
    "    mrkr.SetMarkerStyle(47)\n",
    "    mrkr.Draw(\"Red same\")\n",
    "    cv.SaveAs(\"plots/hit_zx_example_{}.png\".format(i))\n",
    "    \n",
    "    hist_hit_zy_example[i].SetStats(False)\n",
    "    hist_hit_zy_example[i].Draw(\"colz\")\n",
    "    mrkr = ROOT.TMarker(vect_pvr_pos_example[i][2], vect_pvr_pos_example[i][1], 5)\n",
    "    mrkr.SetMarkerColor(ROOT.kRed)\n",
    "    mrkr.SetMarkerSize(2)\n",
    "    mrkr.SetMarkerStyle(47)\n",
    "    mrkr.Draw(\"Red same\")\n",
    "    cv.SaveAs(\"plots/hit_zy_example_{}.png\".format(i))"
   ]
  },
  {
   "cell_type": "code",
   "execution_count": null,
   "metadata": {
    "collapsed": true
   },
   "outputs": [],
   "source": []
  },
  {
   "cell_type": "markdown",
   "metadata": {},
   "source": [
    "## Producing Binned Data"
   ]
  },
  {
   "cell_type": "code",
   "execution_count": 5,
   "metadata": {},
   "outputs": [
    {
     "name": "stdout",
     "output_type": "stream",
     "text": [
      "Starting\n",
      "e_i :\t                  | \t0.0  out of  10k\n",
      "e_i :\t| | | | | | | | | | \t1.0  out of  10k\n",
      "e_i :\t| | | | | | | | | | \t2.0  out of  10k\n",
      "e_i :\t| | | | | | | | | | \t3.0  out of  10k\n",
      "e_i :\t| | | | | | | | | | \t4.0  out of  10k\n",
      "e_i :\t| | | | | | | | | | \t5.0  out of  10k\n",
      "e_i :\t| | | | | | | | | | \t6.0  out of  10k\n",
      "e_i :\t| | | | | | | | | | \t7.0  out of  10k\n",
      "e_i :\t| | | | | | | | | | \t8.0  out of  10k\n",
      "e_i :\t| | | | | | | | | | \t9.0  out of  10k\n",
      "e_i :\t| | | | | | | | | (10000, 15, 15, 25) (10000,)\n"
     ]
    }
   ],
   "source": [
    "print \"Starting\"\n",
    "print \"e_i :\\t                 \",\n",
    "\n",
    "#lin_edges = [np.linspace(-40,40, num=51), np.linspace(-40,40, num=51), np.linspace(-300,800, num=101)]\n",
    "lin_edges = [np.linspace(-40,40, num=16), np.linspace(-40,40, num=16), np.linspace(-300,800, num=26)]\n",
    "log_edges = []\n",
    "\n",
    "\n",
    "for e_i, event in enumerate(t):\n",
    "    \n",
    "    \n",
    "    if (e_i%100==0 ): print \"|\",\n",
    "    if (e_i%1000==0 ): print \"\\t{}  out of  {}k\\ne_i :\\t\".format(e_i/1000., 10 ),\n",
    "    #if (e_i > 4): break\n",
    "    \n",
    "    histo3D_bin_contents, edges = np.histogramdd(np.array([event.hit_x, event.hit_y, event.hit_z]).T, bins= lin_edges)\n",
    "    #print histo3D_bin_contents.shape\n",
    "    \n",
    "    if e_i == 0:\n",
    "        features_binned = np.array([histo3D_bin_contents])\n",
    "        #print features_binned.shape\n",
    "        results = np.array([event.pvr_z])\n",
    "    else:\n",
    "        features_binned = np.append(features_binned, [histo3D_bin_contents], axis=0)\n",
    "        #print features_binned.shape \n",
    "        results = np.append(results, [event.pvr_z])\n",
    "\n",
    "print features_binned.shape, results.shape"
   ]
  },
  {
   "cell_type": "code",
   "execution_count": 6,
   "metadata": {
    "collapsed": true
   },
   "outputs": [],
   "source": [
    "#np.savetxt(\"features_binned2_easy.csv\", features_binned)\n",
    "#np.savetxt(\"results2_easy.csv\", results)\n",
    "np.save(\"features_binned2_easy\", features_binned)\n",
    "np.save(\"results2_easy\", results)"
   ]
  },
  {
   "cell_type": "markdown",
   "metadata": {},
   "source": [
    "## Producing SPARSE Binned Data"
   ]
  },
  {
   "cell_type": "code",
   "execution_count": 4,
   "metadata": {},
   "outputs": [
    {
     "name": "stdout",
     "output_type": "stream",
     "text": [
      "Starting\n",
      "e_i :\t                  | \t0.0  out of  10k\n",
      "e_i :\t| | | | | | | | | | \t1.0  out of  10k\n",
      "e_i :\t| | | | | | | | | | \t2.0  out of  10k\n",
      "e_i :\t| | | | | | | | | | \t3.0  out of  10k\n",
      "e_i :\t| | | | | | | | | | \t4.0  out of  10k\n",
      "e_i :\t| | | | | | | | | | \t5.0  out of  10k\n",
      "e_i :\t| | | | | | | | | | \t6.0  out of  10k\n",
      "e_i :\t| | | | | | | | | | \t7.0  out of  10k\n",
      "e_i :\t| | | | | | | | | | \t8.0  out of  10k\n",
      "e_i :\t| | | | | | | | | | \t9.0  out of  10k\n",
      "e_i :\t| | | | | | | | |\n"
     ]
    }
   ],
   "source": [
    "with open('features_binned_sparse_easy.txt', 'w') as f_out:\n",
    "    print \"Starting\"\n",
    "    print \"e_i :\\t                 \",\n",
    "\n",
    "    #lin_edges = [np.linspace(-40,40, num=51), np.linspace(-40,40, num=51), np.linspace(-300,800, num=101)]\n",
    "    lin_edges = [np.linspace(-40,40, num=16), np.linspace(-40,40, num=16), np.linspace(-300,800, num=26)]\n",
    "    log_edges = []\n",
    "\n",
    "\n",
    "    for e_i, event in enumerate(t):\n",
    "\n",
    "\n",
    "        if (e_i%100==0 ): print \"|\",\n",
    "        if (e_i%1000==0 ): print \"\\t{}  out of  {}k\\ne_i :\\t\".format(e_i/1000., 10 ),\n",
    "        #if (e_i > 9): break\n",
    "\n",
    "        histo3D_bin_contents, edges = np.histogramdd(np.array([event.hit_x, event.hit_y, event.hit_z]).T, bins= lin_edges)\n",
    "        #print histo3D_bin_contents.shape\n",
    "        #print histo3D_bin_contents\n",
    "\n",
    "        shape_3D =  histo3D_bin_contents.shape\n",
    "        #Sadly can't have a 3D sparse matrix. Need to reshape temporarily\n",
    "        histo3D_bin_contents_sparse = sparse.csr_matrix(histo3D_bin_contents.reshape(shape_3D[0]*shape_3D[1], shape_3D[2]))\n",
    "        #print histo3D_bin_contents_sparse\n",
    "        #print \"Now Data\"\n",
    "        #print histo3D_bin_contents_sparse.data.shape\n",
    "        #print histo3D_bin_contents_sparse.indices.shape\n",
    "        #print histo3D_bin_contents_sparse.indptr.shape\n",
    "        \n",
    "        #sparse2 = sparse.csr_matrix((histo3D_bin_contents_sparse.data, histo3D_bin_contents_sparse.indices, histo3D_bin_contents_sparse.indptr), shape=(shape_3D[0]*shape_3D[1], shape_3D[2]))\n",
    "        #print np.all(sparse2 == histo3D_bin_contents_sparse)\n",
    "                                    \n",
    "        \n",
    "        js = json.dumps(histo3D_bin_contents_sparse.data.tolist()) + \"\\t\"\n",
    "        js += json.dumps(histo3D_bin_contents_sparse.indices.tolist()) + \"\\t\"\n",
    "        js += json.dumps(histo3D_bin_contents_sparse.indptr.tolist()) + \"\\t\"\n",
    "        js += json.dumps(encode(np.array(event.pvr_z)).tolist())\n",
    "        #print \"js : \", js\n",
    "        f_out.write(js+\"\\n\")\n",
    "\n"
   ]
  },
  {
   "cell_type": "code",
   "execution_count": null,
   "metadata": {
    "collapsed": true
   },
   "outputs": [],
   "source": []
  },
  {
   "cell_type": "markdown",
   "metadata": {
    "collapsed": true
   },
   "source": [
    "## Producing Fixind number of hits Data"
   ]
  },
  {
   "cell_type": "code",
   "execution_count": 7,
   "metadata": {},
   "outputs": [
    {
     "name": "stdout",
     "output_type": "stream",
     "text": [
      "3344\n"
     ]
    }
   ],
   "source": [
    "max_nu_hits = 0\n",
    "\n",
    "for e_i, event in enumerate(t):\n",
    "    len_hits = len(event.hit_x)\n",
    "    if len_hits > max_nu_hits: max_nu_hits = len_hits\n",
    "        \n",
    "print max_nu_hits"
   ]
  },
  {
   "cell_type": "code",
   "execution_count": 8,
   "metadata": {},
   "outputs": [
    {
     "name": "stdout",
     "output_type": "stream",
     "text": [
      "Starting\n",
      "e_i :\t                  | \t0.0  out of  10k\n",
      "e_i :\t| | | | | | | | | | \t1.0  out of  10k\n",
      "e_i :\t| | | | | | | | | | \t2.0  out of  10k\n",
      "e_i :\t| | | | | | | | | | \t3.0  out of  10k\n",
      "e_i :\t| | | | | | | | | | \t4.0  out of  10k\n",
      "e_i :\t| | | | | | | | | | \t5.0  out of  10k\n",
      "e_i :\t| | | | | | (5684, 15, 15, 25) (5684,)\n"
     ]
    }
   ],
   "source": [
    "print \"Starting\"\n",
    "print \"e_i :\\t                 \",\n",
    "\n",
    "\n",
    "\n",
    "for e_i, event in enumerate(t):\n",
    "    \n",
    "    \n",
    "    if (e_i%100==0 ): print \"|\",\n",
    "    if (e_i%1000==0 ): print \"\\t{}  out of  {}k\\ne_i :\\t\".format(e_i/1000., 10 ),\n",
    "    #if (e_i > 200): break\n",
    "    \n",
    "    feature_contents = np.array([event.hit_x, event.hit_y, event.hit_z]).T\n",
    "    #print feature_contents.shape\n",
    "    feature_contents_rho = np.sqrt(np.square(feature_contents[:,0])+np.square(feature_contents[:,1]))\n",
    "    #print \"rho : \", feature_contents_rho.shape\n",
    "    feature_contents = feature_contents[feature_contents_rho.argsort()]\n",
    "    \n",
    "    feature_contents_cut = np.zeros([1000,3])\n",
    "    #feature_contents_cut = np.zeros([max_nu_hits,3])\n",
    "    _l = min(1000, feature_contents.shape[0])\n",
    "    feature_contents_cut[:_l, :] = feature_contents[:_l,:]  #padding or truncating. Whatever is necessary\n",
    "    \n",
    "    #print \"feature_contents_cut : \", feature_contents_cut\n",
    "    \n",
    "    \n",
    "    if e_i == 0:\n",
    "        features_fixed_nu_hits = np.array([feature_contents_cut])\n",
    "        results = np.array([event.pvr_z])\n",
    "    else:\n",
    "        features_fixed_nu_hits = np.append(features_fixed_nu_hits, [feature_contents_cut], axis=0)\n",
    "        results = np.append(results, [event.pvr_z])\n",
    "\n",
    "print features_binned.shape, results.shape"
   ]
  },
  {
   "cell_type": "code",
   "execution_count": 9,
   "metadata": {
    "collapsed": true
   },
   "outputs": [],
   "source": [
    "#np.savetxt(\"features_fixed_nu_hits2_easy.csv\", features_fixed_nu_hits)\n",
    "#np.savetxt(\"results2_easy.csv\", results)\n",
    "np.save(\"features_fixed_nu_hits2_easy\", features_fixed_nu_hits)\n",
    "np.save(\"results2_easy\", results)"
   ]
  },
  {
   "cell_type": "code",
   "execution_count": null,
   "metadata": {
    "collapsed": true
   },
   "outputs": [],
   "source": []
  },
  {
   "cell_type": "markdown",
   "metadata": {},
   "source": [
    "## Producing TOTAL number of hits Data"
   ]
  },
  {
   "cell_type": "code",
   "execution_count": 33,
   "metadata": {},
   "outputs": [
    {
     "name": "stderr",
     "output_type": "stream",
     "text": [
      "ERROR:root] Internal Python error in the inspect module.\n",
      "Below is the traceback from this internal error.\n",
      "\n",
      "INFO:root] \n",
      "Unfortunately, your original traceback can not be constructed.\n",
      "\n"
     ]
    },
    {
     "name": "stdout",
     "output_type": "stream",
     "text": [
      "Traceback (most recent call last):\n",
      "  File \"/usr/local/lib/python2.7/site-packages/IPython/core/ultratb.py\", line 1132, in get_records\n",
      "  File \"/usr/local/lib/python2.7/site-packages/IPython/core/ultratb.py\", line 313, in wrapped\n",
      "  File \"/usr/local/lib/python2.7/site-packages/IPython/core/ultratb.py\", line 358, in _fixed_getinnerframes\n",
      "  File \"/usr/local/Cellar/python/2.7.14/Frameworks/Python.framework/Versions/2.7/lib/python2.7/inspect.py\", line 1051, in getinnerframes\n",
      "  File \"/usr/local/Cellar/python/2.7.14/Frameworks/Python.framework/Versions/2.7/lib/python2.7/inspect.py\", line 1011, in getframeinfo\n",
      "  File \"/usr/local/Cellar/python/2.7.14/Frameworks/Python.framework/Versions/2.7/lib/python2.7/inspect.py\", line 453, in getsourcefile\n",
      "  File \"/usr/local/Cellar/python/2.7.14/Frameworks/Python.framework/Versions/2.7/lib/python2.7/inspect.py\", line 482, in getmodule\n",
      "  File \"/usr/local/Cellar/python/2.7.14/Frameworks/Python.framework/Versions/2.7/lib/python2.7/inspect.py\", line 466, in getabsfile\n",
      "  File \"/usr/local/Cellar/python/2.7.14/Frameworks/Python.framework/Versions/2.7/lib/python2.7/posixpath.py\", line 364, in abspath\n",
      "OSError: [Errno 24] Too many open files\n"
     ]
    },
    {
     "ename": "IndexError",
     "evalue": "string index out of range",
     "output_type": "error",
     "traceback": [
      "\u001b[0;31m---------------------------------------------------------------------------\u001b[0m",
      "\u001b[0;31mIndexError\u001b[0m                                Traceback (most recent call last)",
      "\u001b[0;32m/usr/local/lib/python2.7/site-packages/IPython/core/interactiveshell.pyc\u001b[0m in \u001b[0;36mrun_code\u001b[0;34m(self, code_obj, result)\u001b[0m\n\u001b[1;32m   2896\u001b[0m             \u001b[0;32mif\u001b[0m \u001b[0mresult\u001b[0m \u001b[0;32mis\u001b[0m \u001b[0;32mnot\u001b[0m \u001b[0mNone\u001b[0m\u001b[0;34m:\u001b[0m\u001b[0;34m\u001b[0m\u001b[0m\n\u001b[1;32m   2897\u001b[0m                 \u001b[0mresult\u001b[0m\u001b[0;34m.\u001b[0m\u001b[0merror_in_exec\u001b[0m \u001b[0;34m=\u001b[0m \u001b[0msys\u001b[0m\u001b[0;34m.\u001b[0m\u001b[0mexc_info\u001b[0m\u001b[0;34m(\u001b[0m\u001b[0;34m)\u001b[0m\u001b[0;34m[\u001b[0m\u001b[0;36m1\u001b[0m\u001b[0;34m]\u001b[0m\u001b[0;34m\u001b[0m\u001b[0m\n\u001b[0;32m-> 2898\u001b[0;31m             \u001b[0mself\u001b[0m\u001b[0;34m.\u001b[0m\u001b[0mshowtraceback\u001b[0m\u001b[0;34m(\u001b[0m\u001b[0;34m)\u001b[0m\u001b[0;34m\u001b[0m\u001b[0m\n\u001b[0m\u001b[1;32m   2899\u001b[0m         \u001b[0;32melse\u001b[0m\u001b[0;34m:\u001b[0m\u001b[0;34m\u001b[0m\u001b[0m\n\u001b[1;32m   2900\u001b[0m             \u001b[0moutflag\u001b[0m \u001b[0;34m=\u001b[0m \u001b[0;36m0\u001b[0m\u001b[0;34m\u001b[0m\u001b[0m\n",
      "\u001b[0;32m/usr/local/lib/python2.7/site-packages/IPython/core/interactiveshell.pyc\u001b[0m in \u001b[0;36mshowtraceback\u001b[0;34m(self, exc_tuple, filename, tb_offset, exception_only)\u001b[0m\n\u001b[1;32m   1822\u001b[0m                     \u001b[0;32mexcept\u001b[0m \u001b[0mException\u001b[0m\u001b[0;34m:\u001b[0m\u001b[0;34m\u001b[0m\u001b[0m\n\u001b[1;32m   1823\u001b[0m                         stb = self.InteractiveTB.structured_traceback(etype,\n\u001b[0;32m-> 1824\u001b[0;31m                                             value, tb, tb_offset=tb_offset)\n\u001b[0m\u001b[1;32m   1825\u001b[0m \u001b[0;34m\u001b[0m\u001b[0m\n\u001b[1;32m   1826\u001b[0m                     \u001b[0mself\u001b[0m\u001b[0;34m.\u001b[0m\u001b[0m_showtraceback\u001b[0m\u001b[0;34m(\u001b[0m\u001b[0metype\u001b[0m\u001b[0;34m,\u001b[0m \u001b[0mvalue\u001b[0m\u001b[0;34m,\u001b[0m \u001b[0mstb\u001b[0m\u001b[0;34m)\u001b[0m\u001b[0;34m\u001b[0m\u001b[0m\n",
      "\u001b[0;32m/usr/local/lib/python2.7/site-packages/IPython/core/ultratb.pyc\u001b[0m in \u001b[0;36mstructured_traceback\u001b[0;34m(self, etype, value, tb, tb_offset, number_of_lines_of_context)\u001b[0m\n",
      "\u001b[0;32m/usr/local/lib/python2.7/site-packages/IPython/core/ultratb.pyc\u001b[0m in \u001b[0;36mstructured_traceback\u001b[0;34m(self, etype, value, tb, tb_offset, number_of_lines_of_context)\u001b[0m\n",
      "\u001b[0;32m/usr/local/lib/python2.7/site-packages/IPython/core/ultratb.pyc\u001b[0m in \u001b[0;36mstructured_traceback\u001b[0;34m(self, etype, evalue, etb, tb_offset, number_of_lines_of_context)\u001b[0m\n",
      "\u001b[0;31mIndexError\u001b[0m: string index out of range"
     ]
    }
   ],
   "source": [
    "with open('features_total_nu_hits2_easy.txt', 'w') as f_out:\n",
    "    #f = open('features_total_nu_hits2_easy.txt', 'w')\n",
    "    for e_i, event in enumerate(t):\n",
    "\n",
    "\n",
    "        if (e_i%100==0 ): print \"|\",\n",
    "        if (e_i%1000==0 ): print \"\\t{}  out of  {}k\\ne_i :\\t\".format(e_i/1000., 10 ),\n",
    "        #if (e_i > 3): break\n",
    "\n",
    "        feature_contents = np.array([event.hit_x, event.hit_y, event.hit_z]).T\n",
    "        #print feature_contents.shape\n",
    "        feature_contents_rho = np.sqrt(np.square(feature_contents[:,0])+np.square(feature_contents[:,1]))\n",
    "        #print \"rho : \", feature_contents_rho.shape\n",
    "        feature_contents = feature_contents[feature_contents_rho.argsort()]\n",
    "\n",
    "\n",
    "        #print \"feature_contents_cut : \", feature_contents_cut\n",
    "\n",
    "        #print feature_contents[0,:]\n",
    "        js = json.dumps(feature_contents.tolist())\n",
    "        #print \"js : \", js\n",
    "        f_out.write(js+\"\\n\")\n",
    "\n",
    "\n",
    "        if e_i == 0:\n",
    "            #features_total_nu_hits = np.array([feature_contents_cut])\n",
    "            results = np.array([event.pvr_z])\n",
    "        else:\n",
    "            #features_total_nu_hits = np.append(features_fixed_nu_hits, [feature_contents_cut], axis=0)\n",
    "            results = np.append(results, [event.pvr_z])\n",
    "\n",
    "\n",
    "\n"
   ]
  },
  {
   "cell_type": "code",
   "execution_count": null,
   "metadata": {
    "collapsed": true
   },
   "outputs": [],
   "source": [
    "#np.savetxt(\"features_fixed_nu_hits2_easy.csv\", features_fixed_nu_hits)\n",
    "#np.savetxt(\"results2_easy.csv\", results)\n",
    "#np.savetxt(\"features_total_nu_hits2_easy.csv\", features_total_nu_hits)\n",
    "np.save(\"results2_easy\", results)"
   ]
  },
  {
   "cell_type": "code",
   "execution_count": null,
   "metadata": {
    "collapsed": true
   },
   "outputs": [],
   "source": []
  }
 ],
 "metadata": {
  "kernelspec": {
   "display_name": "Python 2",
   "language": "python",
   "name": "python2"
  },
  "language_info": {
   "codemirror_mode": {
    "name": "ipython",
    "version": 2
   },
   "file_extension": ".py",
   "mimetype": "text/x-python",
   "name": "python",
   "nbconvert_exporter": "python",
   "pygments_lexer": "ipython2",
   "version": "2.7.14"
  }
 },
 "nbformat": 4,
 "nbformat_minor": 2
}
