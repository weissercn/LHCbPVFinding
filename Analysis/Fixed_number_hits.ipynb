{
 "cells": [
  {
   "cell_type": "code",
   "execution_count": 9,
   "metadata": {
    "collapsed": true
   },
   "outputs": [],
   "source": [
    "import numpy as np\n",
    "from sklearn import preprocessing"
   ]
  },
  {
   "cell_type": "code",
   "execution_count": 2,
   "metadata": {
    "collapsed": true
   },
   "outputs": [],
   "source": [
    "def encode(labels):\n",
    "    return (labels -100)/300\n",
    "def decode(enc_labels):\n",
    "    return (labels*300)+100"
   ]
  },
  {
   "cell_type": "code",
   "execution_count": 3,
   "metadata": {
    "collapsed": true
   },
   "outputs": [],
   "source": [
    "number_to_train = 8000\n",
    "number_to_test =2000"
   ]
  },
  {
   "cell_type": "code",
   "execution_count": 12,
   "metadata": {
    "collapsed": true
   },
   "outputs": [],
   "source": [
    "#features_fixed_nu_hits_orig = np.loadtxt(\"features_fixed_nu_hits2.csv\")\n",
    "#results_orig = np.loadtxt(\"results2.csv\")\n",
    "features_fixed_nu_hits_orig = np.load(\"features_fixed_nu_hits2_easy.npy\")\n",
    "results_orig = np.load(\"results2_easy.npy\")"
   ]
  },
  {
   "cell_type": "code",
   "execution_count": 5,
   "metadata": {},
   "outputs": [
    {
     "name": "stdout",
     "output_type": "stream",
     "text": [
      "(10000,) (10000, 1000, 3)\n",
      "[[[  8.04076342e-01   5.14007839e+00  -2.89010094e+02]\n",
      "  [ -5.20139323e+00  -7.85420461e-01   1.75958459e+02]\n",
      "  [ -1.16234310e+00  -5.13203462e+00   4.96997006e+02]\n",
      "  ..., \n",
      "  [ -1.55646975e+01   1.72426391e+01  -2.38978672e+02]\n",
      "  [  2.18445338e+01  -8.18394347e+00   1.88000276e+02]\n",
      "  [ -1.38551496e+01  -1.88109141e+01   7.60128975e+01]]\n",
      "\n",
      " [[  5.22592743e+00   3.67916895e-01  -2.27004249e+02]\n",
      "  [ -6.25112915e-01  -5.21428249e+00   1.30283544e+01]\n",
      "  [ -3.27319620e-01  -5.29447848e+00   1.12987782e+02]\n",
      "  ..., \n",
      "  [  0.00000000e+00   0.00000000e+00   0.00000000e+00]\n",
      "  [  0.00000000e+00   0.00000000e+00   0.00000000e+00]\n",
      "  [  0.00000000e+00   0.00000000e+00   0.00000000e+00]]\n",
      "\n",
      " [[  5.17388936e+00  -4.17068877e-01  -2.01980751e+02]\n",
      "  [ -5.14501858e+00   1.42360817e+00  -2.13993046e+02]\n",
      "  [ -6.38472762e-01  -5.43867831e+00   1.29739377e+01]\n",
      "  ..., \n",
      "  [  0.00000000e+00   0.00000000e+00   0.00000000e+00]\n",
      "  [  0.00000000e+00   0.00000000e+00   0.00000000e+00]\n",
      "  [  0.00000000e+00   0.00000000e+00   0.00000000e+00]]\n",
      "\n",
      " ..., \n",
      " [[  0.00000000e+00   0.00000000e+00   0.00000000e+00]\n",
      "  [  0.00000000e+00   0.00000000e+00   0.00000000e+00]\n",
      "  [  0.00000000e+00   0.00000000e+00   0.00000000e+00]\n",
      "  ..., \n",
      "  [  0.00000000e+00   0.00000000e+00   0.00000000e+00]\n",
      "  [  0.00000000e+00   0.00000000e+00   0.00000000e+00]\n",
      "  [  0.00000000e+00   0.00000000e+00   0.00000000e+00]]\n",
      "\n",
      " [[ -5.27261792e+00  -9.25939704e-01   4.84954943e+02]\n",
      "  [ -1.13771595e+00  -5.29396094e+00   4.02030725e+02]\n",
      "  [ -1.34631182e+00  -6.48904322e+00   4.96979548e+02]\n",
      "  ..., \n",
      "  [  0.00000000e+00   0.00000000e+00   0.00000000e+00]\n",
      "  [  0.00000000e+00   0.00000000e+00   0.00000000e+00]\n",
      "  [  0.00000000e+00   0.00000000e+00   0.00000000e+00]]\n",
      "\n",
      " [[  5.22813950e+00  -1.40146225e-01   2.37993933e+02]\n",
      "  [  5.19784175e-01   5.33450050e+00  -1.44028171e+02]\n",
      "  [ -1.12527300e-01  -5.41726889e+00  -2.77014208e+02]\n",
      "  ..., \n",
      "  [  0.00000000e+00   0.00000000e+00   0.00000000e+00]\n",
      "  [  0.00000000e+00   0.00000000e+00   0.00000000e+00]\n",
      "  [  0.00000000e+00   0.00000000e+00   0.00000000e+00]]]\n"
     ]
    }
   ],
   "source": [
    "results_enc = encode(results_orig)\n",
    "features_fixed_nu_hits = features_fixed_nu_hits_orig.reshape([10000,1000,3])\n",
    "print results_enc.shape, features_fixed_nu_hits.shape\n",
    "print features_fixed_nu_hits"
   ]
  },
  {
   "cell_type": "code",
   "execution_count": 11,
   "metadata": {},
   "outputs": [
    {
     "name": "stdout",
     "output_type": "stream",
     "text": [
      "[[[  1.07736407e-01   7.04545081e-01  -1.88687349e+00]\n",
      "  [ -7.13511304e-01  -1.07733433e-01   7.03658484e-01]\n",
      "  [ -1.61171370e-01  -7.03575467e-01   2.49229691e+00]\n",
      "  ..., \n",
      "  [ -2.13069273e+00   2.36358683e+00  -1.60812776e+00]\n",
      "  [  2.98501808e+00  -1.12193687e+00   7.70748423e-01]\n",
      "  [ -1.89691213e+00  -2.57870196e+00   1.46820455e-01]]\n",
      "\n",
      " [[  7.12424358e-01   5.03682184e-02  -1.54141330e+00]\n",
      "  [ -8.77051637e-02  -7.14850160e-01  -2.04092465e-01]\n",
      "  [ -4.69819431e-02  -7.25843576e-01   3.52822816e-01]\n",
      "  ..., \n",
      "  [ -2.22099883e-03  -6.65207499e-05  -2.76678812e-01]\n",
      "  [ -2.22099883e-03  -6.65207499e-05  -2.76678812e-01]\n",
      "  [ -2.22099883e-03  -6.65207499e-05  -2.76678812e-01]]\n",
      "\n",
      " [[  7.05308153e-01  -5.72391059e-02  -1.40199705e+00]\n",
      "  [ -7.05802074e-01   1.95084362e-01  -1.46892251e+00]\n",
      "  [ -8.95321223e-02  -7.45610760e-01  -2.04395643e-01]\n",
      "  ..., \n",
      "  [ -2.22099883e-03  -6.65207499e-05  -2.76678812e-01]\n",
      "  [ -2.22099883e-03  -6.65207499e-05  -2.76678812e-01]\n",
      "  [ -2.22099883e-03  -6.65207499e-05  -2.76678812e-01]]\n",
      "\n",
      " ..., \n",
      " [[ -2.22099883e-03  -6.65207499e-05  -2.76678812e-01]\n",
      "  [ -2.22099883e-03  -6.65207499e-05  -2.76678812e-01]\n",
      "  [ -2.22099883e-03  -6.65207499e-05  -2.76678812e-01]\n",
      "  ..., \n",
      "  [ -2.22099883e-03  -6.65207499e-05  -2.76678812e-01]\n",
      "  [ -2.22099883e-03  -6.65207499e-05  -2.76678812e-01]\n",
      "  [ -2.22099883e-03  -6.65207499e-05  -2.76678812e-01]]\n",
      "\n",
      " [[ -7.23251277e-01  -1.26996075e-01   2.42520560e+00]\n",
      "  [ -1.57803608e-01  -7.25772632e-01   1.96320051e+00]\n",
      "  [ -1.86329084e-01  -8.89596756e-01   2.49219964e+00]\n",
      "  ..., \n",
      "  [ -2.22099883e-03  -6.65207499e-05  -2.76678812e-01]\n",
      "  [ -2.22099883e-03  -6.65207499e-05  -2.76678812e-01]\n",
      "  [ -2.22099883e-03  -6.65207499e-05  -2.76678812e-01]]\n",
      "\n",
      " [[  7.12726858e-01  -1.92780286e-02   1.04928375e+00]\n",
      "  [  6.88594653e-02   7.31196829e-01  -1.07911928e+00]\n",
      "  [ -1.76091024e-02  -7.42675917e-01  -1.82003945e+00]\n",
      "  ..., \n",
      "  [ -2.22099883e-03  -6.65207499e-05  -2.76678812e-01]\n",
      "  [ -2.22099883e-03  -6.65207499e-05  -2.76678812e-01]\n",
      "  [ -2.22099883e-03  -6.65207499e-05  -2.76678812e-01]]]\n"
     ]
    }
   ],
   "source": [
    "scaler = preprocessing.StandardScaler()\n",
    "a = features_fixed_nu_hits\n",
    "\n",
    "c = np.array([a[:,:,0].flatten(), a[:,:,1].flatten(), a[:,:,2].flatten()]).T  ## collect all x , y and z values of all hits\n",
    "scaler.fit(c)\n",
    "\n",
    "for i in range(a.shape[0]):\n",
    "    tdata_contrib = scaler.transform(a[i,:,:])\n",
    "    if i==0:\n",
    "        transformed_data = [tdata_contrib]\n",
    "    else:\n",
    "        transformed_data = np.append(transformed_data, [tdata_contrib], axis=0)\n",
    "        \n",
    "    \n",
    "\n",
    "\n",
    "assert features_fixed_nu_hits.shape == transformed_data.shape\n",
    "features_fixed_nu_hits = transformed_data\n",
    "print features_fixed_nu_hits"
   ]
  },
  {
   "cell_type": "code",
   "execution_count": 53,
   "metadata": {},
   "outputs": [
    {
     "name": "stdout",
     "output_type": "stream",
     "text": [
      "Epoch 1/2\n",
      "8000/8000 [==============================] - 1s - loss: 0.1404     \n",
      "Epoch 2/2\n",
      "8000/8000 [==============================] - 1s - loss: 0.1125     \n"
     ]
    },
    {
     "data": {
      "text/plain": [
       "<keras.callbacks.History at 0x167c5ea10>"
      ]
     },
     "execution_count": 53,
     "metadata": {},
     "output_type": "execute_result"
    }
   ],
   "source": [
    "#fix number of hits\n",
    "# order in ascending value of rho\n",
    "\n",
    "\n",
    "from keras.layers import Input, Dense, Dropout, Flatten \n",
    "from keras.layers import Conv3D, MaxPooling3D\n",
    "from keras.models import Model\n",
    "\n",
    "# This returns a tensor\n",
    "inputs = Input(shape=(1000,3,)) # (number of hits per event), (x,y,z)\n",
    "#labels shape (,1)\n",
    "\n",
    "x = Flatten()(inputs)\n",
    "\n",
    "\n",
    "\n",
    "# a layer instance is callable on a tensor, and returns a tensor\n",
    "x = Dense(64, activation='relu')(x)\n",
    "x = Dropout(0.5)(x)\n",
    "x = Dense(256, activation='relu')(x)\n",
    "x = Dense(64, activation='relu')(x)\n",
    "predictions = Dense(1, activation='tanh')(x)\n",
    "\n",
    "# This creates a model that includes\n",
    "# the Input layer and three Dense layers\n",
    "model = Model(inputs=inputs, outputs=predictions)\n",
    "model.compile(optimizer='rmsprop',\n",
    "              loss='mse',   #mean squared error\n",
    "              metrics=[])\n",
    "model.fit(features_fixed_nu_hits[:number_to_train,:,:], results_enc[:number_to_train], epochs=2, batch_size=25)  # starts training\n",
    "\n",
    "\n"
   ]
  },
  {
   "cell_type": "code",
   "execution_count": 54,
   "metadata": {},
   "outputs": [
    {
     "name": "stdout",
     "output_type": "stream",
     "text": [
      "1325/2000 [==================>...........] - ETA: 0s"
     ]
    },
    {
     "data": {
      "text/plain": [
       "0.11084563294425606"
      ]
     },
     "execution_count": 54,
     "metadata": {},
     "output_type": "execute_result"
    }
   ],
   "source": [
    "model.evaluate(features_fixed_nu_hits[number_to_train:number_to_train+number_to_test,:], results_enc[number_to_train:number_to_train+number_to_test], batch_size=25)"
   ]
  },
  {
   "cell_type": "markdown",
   "metadata": {},
   "source": [
    "predicted = model.predict(features_fixed_nu_hits[number_to_train:number_to_train+number_to_test,:])"
   ]
  },
  {
   "cell_type": "code",
   "execution_count": 38,
   "metadata": {},
   "outputs": [
    {
     "name": "stdout",
     "output_type": "stream",
     "text": [
      "[[ 1.        ]\n",
      " [-1.        ]\n",
      " [ 0.00175916]\n",
      " ..., \n",
      " [ 0.00175916]\n",
      " [ 1.        ]\n",
      " [-1.        ]] [ 0.00427553 -0.13653037 -0.08732112 ...,  0.02201658 -0.0313603\n",
      " -0.11749169]\n"
     ]
    }
   ],
   "source": [
    "print predicted, results_enc[number_to_train:number_to_train+number_to_test]"
   ]
  },
  {
   "cell_type": "code",
   "execution_count": null,
   "metadata": {
    "collapsed": true
   },
   "outputs": [],
   "source": []
  }
 ],
 "metadata": {
  "kernelspec": {
   "display_name": "Python 2",
   "language": "python",
   "name": "python2"
  },
  "language_info": {
   "codemirror_mode": {
    "name": "ipython",
    "version": 2
   },
   "file_extension": ".py",
   "mimetype": "text/x-python",
   "name": "python",
   "nbconvert_exporter": "python",
   "pygments_lexer": "ipython2",
   "version": "2.7.14"
  }
 },
 "nbformat": 4,
 "nbformat_minor": 2
}
