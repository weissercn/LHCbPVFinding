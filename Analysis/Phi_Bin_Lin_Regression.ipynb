{
 "cells": [
  {
   "cell_type": "markdown",
   "metadata": {},
   "source": [
    "## Imports"
   ]
  },
  {
   "cell_type": "code",
   "execution_count": 208,
   "metadata": {
    "collapsed": true
   },
   "outputs": [],
   "source": [
    "import numpy as np\n",
    "import uproot\n",
    "data_dir = \"/Users/weisser/MIT_Dropbox/LbVMWeisser_shared/Tracking/Simulated_Velo/LHCbPVFinding_DataSets\"\n",
    "import matplotlib.pyplot as plt\n",
    "%matplotlib inline\n",
    "from sklearn.neighbors import KernelDensity\n"
   ]
  },
  {
   "cell_type": "code",
   "execution_count": 11,
   "metadata": {},
   "outputs": [
    {
     "data": {
      "text/plain": [
       "['pvr_x',\n",
       " 'pvr_y',\n",
       " 'pvr_z',\n",
       " 'hit_x',\n",
       " 'hit_y',\n",
       " 'hit_z',\n",
       " 'hit_prt',\n",
       " 'prt_pid',\n",
       " 'prt_px',\n",
       " 'prt_py',\n",
       " 'prt_pz',\n",
       " 'prt_e',\n",
       " 'prt_x',\n",
       " 'prt_y',\n",
       " 'prt_z']"
      ]
     },
     "execution_count": 11,
     "metadata": {},
     "output_type": "execute_result"
    }
   ],
   "source": [
    "f = uproot.open(data_dir+\"/Data_ROOT/pvs_weisser.root\")\n",
    "f.classes()\n",
    "t = f[\"data\"]\n",
    "t.keys()\n"
   ]
  },
  {
   "cell_type": "markdown",
   "metadata": {},
   "source": [
    "## Explore"
   ]
  },
  {
   "cell_type": "code",
   "execution_count": 149,
   "metadata": {},
   "outputs": [
    {
     "data": {
      "image/png": "[encoded data removed]",
      "text/plain": [
       "<matplotlib.figure.Figure at 0x1767e50d0>"
      ]
     },
     "metadata": {},
     "output_type": "display_data"
    },
    {
     "data": {
      "image/png": "[encoded data removed]",
      "text/plain": [
       "<matplotlib.figure.Figure at 0x17a4c5a50>"
      ]
     },
     "metadata": {},
     "output_type": "display_data"
    },
    {
     "data": {
      "image/png": "[encoded data removed]",
      "text/plain": [
       "<matplotlib.figure.Figure at 0x179c22a10>"
      ]
     },
     "metadata": {},
     "output_type": "display_data"
    },
    {
     "name": "stdout",
     "output_type": "stream",
     "text": [
      "Number of events : \t\t\t\t10000\n",
      "Average number of pvs per event : \t\t1.0\n",
      "Average number of particles per event : \t103.2413\n",
      "Average number of hits per event : \t\t508.2261\n",
      "\n",
      "pvr_z : \n",
      "[[ 162.93276121],\n",
      " [ 58.44514774],\n",
      " [-32.79803724],\n",
      " ...,\n",
      " [ 125.06719003],\n",
      " [ 157.39909016],\n",
      " [ 153.89367027]] \n",
      "\n",
      "prt_z : \n",
      "[[ 162.93276121  162.93276121  162.93276121 ...  -82.55716777  163.2698931   163.2698931 ],\n",
      " [ 58.44514774  58.44514774  58.44514774 ...  58.44514774  58.44478239  58.44478239],\n",
      " [-32.79803724 -32.79803724 -32.79803724 ...  402.38517894  257.42278889  257.42278889],\n",
      " ...,\n",
      " [ 125.06719003  125.06719003  125.06719003 ...  201.61397577  125.06542824  125.06542824],\n",
      " [ 157.39909016  157.39909016  157.39909016 ...  157.39916006  365.5848589   365.5848589 ],\n",
      " [ 153.89367027  153.89367027  153.89367027 ...  153.89367027  194.81977851  194.81977851]] \n",
      "\n",
      "hit_z : \n",
      "[[ 615.99924868  660.9774781   705.98973092 ...  263.01186     324.96277484  401.98114762],\n",
      " [ 212.95756034  238.05362467  262.98961649 ... -238.97666423 -264.02879495 -289.00756624],\n",
      " [-202.00389311 -226.96578091 -251.98211715 ...  661.028483    706.04419915  750.97744527],\n",
      " ...,\n",
      " [ 603.98467719  648.98347113  693.9957175  ... -239.00687634 -263.99401941 -289.01165959],\n",
      " [ 738.93027616   13.06778597  -24.02220947 ...  390.00453386  485.04594019  390.05364665],\n",
      " [ 693.9609986   739.01988064  648.94716201 ...  649.01880016  693.94940355  738.97201293]]\n"
     ]
    }
   ],
   "source": [
    "if False:\n",
    "    data_dict = t.arrays()\n",
    "    len_pvr = [len(i) for i in data_dict[\"pvr_z\"]]\n",
    "    len_prt = [len(i) for i in data_dict[\"prt_z\"]]\n",
    "    len_hit = [len(i) for i in data_dict[\"hit_z\"]]\n",
    "\n",
    "\n",
    "\n",
    "    plt.hist(len_pvr)\n",
    "    plt.xlabel(\"len_pvr \")\n",
    "    plt.show()\n",
    "\n",
    "    plt.hist(len_prt)\n",
    "    plt.xlabel(\"len_prt \")\n",
    "    plt.show()\n",
    "\n",
    "    plt.hist(len_hit)\n",
    "    plt.xlabel(\"len_hit \")\n",
    "    plt.show()\n",
    "\n",
    "    print \"Number of events : \\t\\t\\t\\t\", len(data_dict[\"pvr_z\"])\n",
    "    print \"Average number of pvs per event : \\t\\t\", np.average([len(i) for i in data_dict[\"pvr_z\"]])\n",
    "    print \"Average number of particles per event : \\t\", np.average([len(i) for i in data_dict[\"prt_z\"]])\n",
    "    print \"Average number of hits per event : \\t\\t\", np.average([len(i) for i in data_dict[\"hit_z\"]])\n",
    "\n",
    "    print \"\\npvr_z : \\n\", data_dict[\"pvr_z\"], \"\\n\\nprt_z : \\n\", data_dict[\"prt_z\"], \"\\n\\nhit_z : \\n\", data_dict[\"hit_z\"] "
   ]
  },
  {
   "cell_type": "code",
   "execution_count": 209,
   "metadata": {},
   "outputs": [],
   "source": [
    "# Simple (2D) Linear Regression. Gaussian uncertainties of std dev beta in y variable. No uncertainties in x variable\n",
    "# As proxy for x intercept uncertainty take the distance from the x intercept at which the y distance from the x axis \n",
    "# corresponds to one standard dev in y (beta).\n",
    "# If y = m * x + c\n",
    "# Intercept is at - c / m\n",
    "# Intercept uncertainty proxy is beta / m\n",
    "\n",
    "# Look at http://science.widener.edu/svb/stats/regress.html\n",
    "\n",
    "def linear_regression(x, y):\n",
    "    \n",
    "    X = np.array([x]).T\n",
    "    train_features = X\n",
    "    train_target = y\n",
    "\n",
    "    \n",
    "    if False:\n",
    "        w = np.dot(train_features.T, train_features)  \n",
    "        w1 = np.dot(np.linalg.pinv(w), np.dot(train_features.T,train_target))\n",
    "    \n",
    "    if False:\n",
    "        mean_x = np.mean(x);   mean_y = np.mean(y);\n",
    "        B1 = sum((x(i) - mean_x) * (y(i) - mean_y)) / sum( (x(i) - mean_x)^2 )\n",
    "        B0 = mean(y) - B1 * mean(x)\n",
    "        \n",
    "        beta = 1\n",
    "        print w1\n",
    "    \n",
    "        c = w1[0]\n",
    "        m = w1[1]\n",
    "        intercept = - c / m\n",
    "        intercept_uncertainty = beta / m \n",
    "    \n",
    "    \n",
    "    if False:\n",
    "        a = np.linalg.inv(np.dot(X.T,X))\n",
    "        c = np.dot(X.T,Y)\n",
    "        b = np.dot(a,c)\n",
    "\n",
    "\n",
    "    if True:\n",
    "        mean_x = np.mean(x);   mean_y = np.mean(y);\n",
    "        N = len(y)\n",
    "        assert N == len(x)\n",
    "        s_xx = sum([(x[i]-mean_x)*(x[i]-mean_x) for i in range(N)])\n",
    "        s_yy = sum([(y[i]-mean_y)*(y[i]-mean_y) for i in range(N)])\n",
    "        s_xy = sum([(x[i]-mean_x)*(y[i]-mean_y) for i in range(N)])\n",
    "        \n",
    "        #print s_xx, s_yy, s_xy\n",
    "        \n",
    "        m = s_xy / s_xx\n",
    "        c = mean_y - m * mean_x\n",
    "        intercept = mean_x - mean_y / m\n",
    "        \n",
    "        #print \"m, c, intercept : \\t\", m, c, intercept\n",
    "        \n",
    "        beta = N / sum([(y[i]- c - m*x[i])*(y[i]- c - m*x[i]) for i in range(N)])\n",
    "        \n",
    "        s_r = np.sqrt((s_yy - np.square(m)*s_xx)/(N-2) )\n",
    "        s_y = s_r * np.sqrt(1+1./N + (x-mean_x)**2/s_xx) \n",
    "        #s_x = s_r/m * sqrt(1./M + 1./N + (y_unk-mean_y)**2/(m**2*s_xx))\n",
    "        #print beta\n",
    "        #print s_r, np.mean(s_y)\n",
    "        \n",
    "        beta = np.mean(s_y) #This is not actually correct\n",
    "        \n",
    "    \n",
    "    \n",
    "    \n",
    "    \n",
    "    \n",
    "    \n",
    "    intercept_uncertainty = beta / m \n",
    "    \n",
    "    \n",
    "    return intercept, intercept_uncertainty\n",
    "    "
   ]
  },
  {
   "cell_type": "code",
   "execution_count": 138,
   "metadata": {},
   "outputs": [
    {
     "name": "stdout",
     "output_type": "stream",
     "text": [
      "m, c, intercept : \t2.00012161174 1.00010000625 -0.500019599\n"
     ]
    },
    {
     "data": {
      "text/plain": [
       "(-0.50001959900041371, 0.00067352054345624099)"
      ]
     },
     "execution_count": 138,
     "metadata": {},
     "output_type": "execute_result"
    }
   ],
   "source": [
    "#Testing the linear regression function\n",
    "if False:\n",
    "    \n",
    "    if True:\n",
    "        l = [1, 2, 3, 4 ]\n",
    "\n",
    "        x_train = np.array(l)\n",
    "        y_train = np.array([2*i + 1 + np.random.normal(loc=0., scale=0.001) for i in l])\n",
    "\n",
    "    else:\n",
    "        l = [1, 2, 3, 4 ]\n",
    "        l1 = [1.5, 2.5]\n",
    "\n",
    "        x_train = np.array(l+l1)\n",
    "        y_train = np.array([2*i + 1 + np.random.normal(loc=0., scale=0.001) for i in l] +\n",
    "                          [3*i + 0.5 + np.random.normal(loc=0., scale=0.001) for i in l1])\n",
    "\n",
    "\n",
    "    #X_train = np.c_[1, 2, 3, 4 ].T\n",
    "    #y_train = [3, 5, ]\n",
    "    X_test = np.c_[0, 2].T\n",
    "    linear_regression(x_train, y_train)\n"
   ]
  },
  {
   "cell_type": "markdown",
   "metadata": {},
   "source": [
    "## Fill Bins"
   ]
  },
  {
   "cell_type": "code",
   "execution_count": 307,
   "metadata": {},
   "outputs": [
    {
     "name": "stdout",
     "output_type": "stream",
     "text": [
      "n_skipped / n_total :  1393  /  1695\n",
      "[ 162.93276121]\n"
     ]
    },
    {
     "data": {
      "image/png": "[encoded data removed]",
      "text/plain": [
       "<matplotlib.figure.Figure at 0x17bc5f610>"
      ]
     },
     "metadata": {},
     "output_type": "display_data"
    }
   ],
   "source": [
    "# 0.1 milliradian corresponds to 63000 bins\n",
    "binning_scheme = [[10, 0],[10, 0.5]]\n",
    "binning_scheme = [[63000, 0],[63000, 0.5]] # skipped many events\n",
    "binning_scheme = [[6300, 0],[6300, 0.5]]\n",
    "# 10, 0.5 means you divide 2 pi into 10 bins. the offset is 0.5 times a bin\n",
    "\n",
    "\n",
    "\n",
    "\n",
    "counter = 0\n",
    "#for i in range(len(data_dict[\"hit_x\"])):\n",
    "for i in range(1):\n",
    "    counter += 1\n",
    "    \n",
    "    bin_contents = []\n",
    "    for n_binning_scheme, (nbins, offset_bin_frac) in enumerate(binning_scheme):\n",
    "        bin_contents.append({})\n",
    "    \n",
    "    hit_phi = np.arctan2(data_dict[\"hit_y\"][i], data_dict[\"hit_x\"][i])\n",
    "    hit_r   = np.sqrt(np.square(data_dict[\"hit_y\"][i]) + np.square(data_dict[\"hit_x\"][i]))\n",
    "    #print hit_phi\n",
    "    \n",
    "    ##################################################\n",
    "    ### FILL BINS\n",
    "    ##################################################\n",
    "    for n_binning_scheme in range(len(binning_scheme)):\n",
    "        nbins, offset_bin_frac = binning_scheme[n_binning_scheme][0], binning_scheme[n_binning_scheme][1]\n",
    "        #vectorised and no bin definitions necessary\n",
    "        hit_phi_obs = hit_phi - 2.*np.pi*offset_bin_frac/nbins  #Rotating the bins with angle alpha is the same as rotating the point with angle - alpha\n",
    "        hit_phi_obs = hit_phi_obs % (2 * np.pi ) # taking care of modulo\n",
    "        hit_bins = (hit_phi_obs //(2 * np.pi / nbins)).astype(int)\n",
    "        \n",
    "\n",
    "        #print hit_phi_obs\n",
    "        #print len(hit_bins), hit_bins\n",
    "\n",
    "        for j, b in enumerate(hit_bins):\n",
    "            #bin_contents[n_binning_scheme][b].append([data_dict[\"hit_z\"][i][j], hit_r[j]])\n",
    "            if b in bin_contents[n_binning_scheme]:\n",
    "                bin_contents[n_binning_scheme][b].append([data_dict[\"hit_z\"][i][j], hit_r[j]])\n",
    "            else:\n",
    "                bin_contents[n_binning_scheme][b]=[[data_dict[\"hit_z\"][i][j], hit_r[j]]]\n",
    "                \n",
    "    #print counter\n",
    "    #print bin_contents\n",
    "    \n",
    "    \n",
    "    \n",
    "    ##################################################\n",
    "    ### DO REGRESSION\n",
    "    ##################################################\n",
    "    kernel_inputs_orig = []\n",
    "    for n_binning_scheme, (nbins, offset_bin_frac) in enumerate(binning_scheme):\n",
    "        kernel_inputs_orig.append([])\n",
    "\n",
    "    n_skipped = 0\n",
    "    n_total   = 0\n",
    "\n",
    "    for n_binning_scheme in range(len(binning_scheme)):\n",
    "        nbins, offset_bin_frac = binning_scheme[n_binning_scheme][0], binning_scheme[n_binning_scheme][1]\n",
    "        for key in bin_contents[n_binning_scheme]:\n",
    "            n_total +=1\n",
    "            data = np.array(bin_contents[n_binning_scheme][key])\n",
    "            #print data.shape[0],\n",
    "            if (data.shape[0] < 3): n_skipped+=1; continue\n",
    "            intercept, intercept_uncertainty = linear_regression(data[:, 0], data[:,1])\n",
    "            #print \" intercept, intercept_uncertainty  : \", intercept, intercept_uncertainty\n",
    "            kernel_inputs_orig[n_binning_scheme].append([intercept, intercept_uncertainty])\n",
    "\n",
    "    #print kernel_inputs_orig\n",
    "    print \"n_skipped / n_total : \", n_skipped, \" / \", n_total\n",
    "    \n",
    "    \n",
    "    ##################################################\n",
    "    ### KERNEL DENSITY ESTIMATION\n",
    "    ##################################################\n",
    "    \n",
    "    # Neither scipy.stats (gaussian_kde) not sklearn implementations allow to vary bandwidth on a per entry level\n",
    "    # Had to implement it myself\n",
    "\n",
    "    x_plot = np.linspace(-200, 400, 1200)\n",
    "    #x_plot = np.linspace(100, 200, 200)\n",
    "    #x_plot = np.linspace(-200, 400, 5)\n",
    "    y_plot = np.zeros(len(x_plot))\n",
    "    #X_plot = np.linspace(-200, 400, 1200)[:, np.newaxis]\n",
    "\n",
    "    kernel_inputs = []\n",
    "    for a in kernel_inputs_orig: kernel_inputs.extend(a)    #flatten binning scheme\n",
    "\n",
    "    kernel_inputs = np.array(kernel_inputs)\n",
    "    #print kernel_inputs\n",
    "    #print \"kernel_inputs.shape : \", kernel_inputs.shape\n",
    "    #print kernel_inputs\n",
    "\n",
    "\n",
    "    def gaussian(x, mu, sig):\n",
    "        return np.exp(-np.power(x - mu, 2.) / (2 * np.power(sig, 2.)))\n",
    "\n",
    "    for a in range(kernel_inputs.shape[0]):\n",
    "        y_plot += gaussian(x_plot, kernel_inputs[a,0], kernel_inputs[a,1])\n",
    "\n",
    "\n",
    "    #Normalise\n",
    "    # Compute the area using the composite trapezoidal rule.\n",
    "    area = np.trapz(y_plot, dx=(x_plot[1]- x_plot[0]))\n",
    "    #area = np.trapz(y_plot, dx=1./len(y_plot)) #Assuming x_max - x_min is 1\n",
    "    y_plot = y_plot/ area\n",
    "    #y_plot = y_plot/ np.linalg.norm(y_plot)\n",
    "\n",
    "\n",
    "    plt.fill_between(x_plot, 0, y_plot)\n",
    "    \n",
    "    print data_dict[\"pvr_z\"][i]\n",
    "    \n",
    "    plt.axvline(x=data_dict[\"pvr_z\"][i], color='r', lw=1., linestyle = '-.')\n",
    "    \n",
    "    plt.fill_between(x_plot, 0, y_plot, color='b')\n",
    "    \n",
    "    \n",
    "    \n",
    "    \n",
    "    \n",
    "    "
   ]
  },
  {
   "cell_type": "code",
   "execution_count": null,
   "metadata": {},
   "outputs": [],
   "source": []
  },
  {
   "cell_type": "code",
   "execution_count": null,
   "metadata": {
    "collapsed": true
   },
   "outputs": [],
   "source": []
  },
  {
   "cell_type": "code",
   "execution_count": null,
   "metadata": {
    "collapsed": true
   },
   "outputs": [],
   "source": []
  },
  {
   "cell_type": "code",
   "execution_count": null,
   "metadata": {
    "collapsed": true
   },
   "outputs": [],
   "source": []
  },
  {
   "cell_type": "code",
   "execution_count": null,
   "metadata": {
    "collapsed": true
   },
   "outputs": [],
   "source": []
  },
  {
   "cell_type": "code",
   "execution_count": null,
   "metadata": {
    "collapsed": true
   },
   "outputs": [],
   "source": []
  },
  {
   "cell_type": "code",
   "execution_count": null,
   "metadata": {
    "collapsed": true
   },
   "outputs": [],
   "source": []
  },
  {
   "cell_type": "code",
   "execution_count": null,
   "metadata": {
    "collapsed": true
   },
   "outputs": [],
   "source": []
  },
  {
   "cell_type": "code",
   "execution_count": null,
   "metadata": {
    "collapsed": true
   },
   "outputs": [],
   "source": []
  },
  {
   "cell_type": "code",
   "execution_count": null,
   "metadata": {
    "collapsed": true
   },
   "outputs": [],
   "source": []
  },
  {
   "cell_type": "code",
   "execution_count": null,
   "metadata": {
    "collapsed": true
   },
   "outputs": [],
   "source": []
  },
  {
   "cell_type": "code",
   "execution_count": null,
   "metadata": {
    "collapsed": true
   },
   "outputs": [],
   "source": []
  },
  {
   "cell_type": "code",
   "execution_count": null,
   "metadata": {
    "collapsed": true
   },
   "outputs": [],
   "source": []
  }
 ],
 "metadata": {
  "kernelspec": {
   "display_name": "Python 2",
   "language": "python",
   "name": "python2"
  },
  "language_info": {
   "codemirror_mode": {
    "name": "ipython",
    "version": 2
   },
   "file_extension": ".py",
   "mimetype": "text/x-python",
   "name": "python",
   "nbconvert_exporter": "python",
   "pygments_lexer": "ipython2",
   "version": "2.7.14"
  }
 },
 "nbformat": 4,
 "nbformat_minor": 2
}
