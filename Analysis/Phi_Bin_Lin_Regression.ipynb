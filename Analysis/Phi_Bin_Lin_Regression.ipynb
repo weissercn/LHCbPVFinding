{
 "cells": [
  {
   "cell_type": "markdown",
   "metadata": {},
   "source": [
    "## Imports"
   ]
  },
  {
   "cell_type": "code",
   "execution_count": 1,
   "metadata": {
    "collapsed": true
   },
   "outputs": [],
   "source": [
    "import numpy as np\n",
    "import uproot\n",
    "data_dir = \"/Users/weisser/MIT_Dropbox/LbVMWeisser_shared/Tracking/Simulated_Velo/LHCbPVFinding_DataSets\"\n",
    "import matplotlib.pyplot as plt\n",
    "%matplotlib inline\n",
    "#from sklearn.neighbors import KernelDensity\n",
    "from scipy.signal import find_peaks_cwt\n",
    "from scipy.signal import argrelextrema \n",
    "import math\n"
   ]
  },
  {
   "cell_type": "code",
   "execution_count": 2,
   "metadata": {},
   "outputs": [
    {
     "data": {
      "text/plain": [
       "['pvr_x',\n",
       " 'pvr_y',\n",
       " 'pvr_z',\n",
       " 'hit_x',\n",
       " 'hit_y',\n",
       " 'hit_z',\n",
       " 'hit_prt',\n",
       " 'prt_pid',\n",
       " 'prt_px',\n",
       " 'prt_py',\n",
       " 'prt_pz',\n",
       " 'prt_e',\n",
       " 'prt_x',\n",
       " 'prt_y',\n",
       " 'prt_z']"
      ]
     },
     "execution_count": 2,
     "metadata": {},
     "output_type": "execute_result"
    }
   ],
   "source": [
    "f = uproot.open(data_dir+\"/Data_ROOT/pvs_weisser.root\")\n",
    "#f = uproot.open(data_dir+\"/Data_ROOT/pvs_weisser_old_smearing.root\")\n",
    "f.classes()\n",
    "t = f[\"data\"]\n",
    "t.keys()\n"
   ]
  },
  {
   "cell_type": "markdown",
   "metadata": {},
   "source": [
    "## Explore"
   ]
  },
  {
   "cell_type": "code",
   "execution_count": 3,
   "metadata": {},
   "outputs": [
    {
     "data": {
      "image/png": "[encoded data removed]",
      "text/plain": [
       "<matplotlib.figure.Figure at 0x10a2a4ad0>"
      ]
     },
     "metadata": {},
     "output_type": "display_data"
    },
    {
     "data": {
      "image/png": "[encoded data removed]",
      "text/plain": [
       "<matplotlib.figure.Figure at 0x1117cbb10>"
      ]
     },
     "metadata": {},
     "output_type": "display_data"
    },
    {
     "data": {
      "image/png": "[encoded data removed]",
      "text/plain": [
       "<matplotlib.figure.Figure at 0x115312150>"
      ]
     },
     "metadata": {},
     "output_type": "display_data"
    },
    {
     "name": "stdout",
     "output_type": "stream",
     "text": [
      "Number of events : \t\t\t\t10000\n",
      "Average number of pvs per event : \t\t1.0\n",
      "Average number of particles per event : \t103.0954\n",
      "Average number of hits per event : \t\t507.955\n",
      "\n",
      "pvr_z : \n",
      "[[ 149.25316414],\n",
      " [ 96.42680849],\n",
      " [ 100.49846911],\n",
      " ...,\n",
      " [ 123.06469028],\n",
      " [ 73.87162737],\n",
      " [ 109.66083585]] \n",
      "\n",
      "prt_z : \n",
      "[[ 149.25316414  149.25316414  149.25316414 ...  -96.23676484  149.59029603  149.59029603],\n",
      " [ 96.42680849  96.42680849  96.42680849 ...  96.42680849  96.42644315  96.42644315],\n",
      " [ 100.49846911  100.49846911  100.49846911 ...  535.68168529  390.71929524  390.71929524],\n",
      " ...,\n",
      " [ 123.06469028  123.06469028  123.06469028 ...  123.06469028  123.06469028  123.06469028],\n",
      " [ 73.87162737  73.87162737  73.87162737 ...  66.60485054  73.87425839  73.87425839],\n",
      " [ 109.66083585  109.66083585  109.66083585 ...  114.50284526  -21.12416979  -21.12416979]] \n",
      "\n",
      "hit_z : \n",
      "[[ 616.  661.  706. ...  263.  325.  402.],\n",
      " [ 263.  325.  402. ... -239. -264. -289.],\n",
      " [ -62. -132. -202. ...  661.  706.  751.],\n",
      " ...,\n",
      " [ 616.  661.  706. ... -24. -49. -74.],\n",
      " [  1. -24. -49. ...  325.  402.  497.],\n",
      " [ 151.  176.  201. ... -74. -24. -49.]]\n"
     ]
    }
   ],
   "source": [
    "if True:\n",
    "    data_dict = t.arrays()\n",
    "    len_pvr = [len(i) for i in data_dict[\"pvr_z\"]]\n",
    "    len_prt = [len(i) for i in data_dict[\"prt_z\"]]\n",
    "    len_hit = [len(i) for i in data_dict[\"hit_z\"]]\n",
    "\n",
    "\n",
    "\n",
    "    plt.hist(len_pvr)\n",
    "    plt.xlabel(\"len_pvr \")\n",
    "    plt.show()\n",
    "\n",
    "    plt.hist(len_prt)\n",
    "    plt.xlabel(\"len_prt \")\n",
    "    plt.show()\n",
    "\n",
    "    plt.hist(len_hit)\n",
    "    plt.xlabel(\"len_hit \")\n",
    "    plt.show()\n",
    "\n",
    "    print \"Number of events : \\t\\t\\t\\t\", len(data_dict[\"pvr_z\"])\n",
    "    print \"Average number of pvs per event : \\t\\t\", np.average([len(i) for i in data_dict[\"pvr_z\"]])\n",
    "    print \"Average number of particles per event : \\t\", np.average([len(i) for i in data_dict[\"prt_z\"]])\n",
    "    print \"Average number of hits per event : \\t\\t\", np.average([len(i) for i in data_dict[\"hit_z\"]])\n",
    "\n",
    "    print \"\\npvr_z : \\n\", data_dict[\"pvr_z\"], \"\\n\\nprt_z : \\n\", data_dict[\"prt_z\"], \"\\n\\nhit_z : \\n\", data_dict[\"hit_z\"] "
   ]
  },
  {
   "cell_type": "code",
   "execution_count": 4,
   "metadata": {},
   "outputs": [],
   "source": [
    "# Simple (2D) Linear Regression. Gaussian uncertainties of std dev beta in y variable. No uncertainties in x variable\n",
    "# As proxy for x intercept uncertainty take the distance from the x intercept at which the y distance from the x axis \n",
    "# corresponds to one standard dev in y (beta).\n",
    "# If y = m * x + c\n",
    "# Intercept is at - c / m\n",
    "# Intercept uncertainty proxy is beta / m\n",
    "\n",
    "# Look at http://science.widener.edu/svb/stats/regress.html\n",
    "\n",
    "def linear_regression(x, y):\n",
    "\n",
    "    if True:\n",
    "        mean_x = np.mean(x);   mean_y = np.mean(y);\n",
    "        N = len(y)\n",
    "        assert N == len(x)\n",
    "        s_xx = sum([(x[i]-mean_x)*(x[i]-mean_x) for i in range(N)])\n",
    "        s_yy = sum([(y[i]-mean_y)*(y[i]-mean_y) for i in range(N)])\n",
    "        s_xy = sum([(x[i]-mean_x)*(y[i]-mean_y) for i in range(N)])\n",
    "        \n",
    "        #print s_xx, s_yy, s_xy\n",
    "        \n",
    "        m = s_xy / s_xx\n",
    "        c = mean_y - m * mean_x\n",
    "        intercept = mean_x - mean_y / m\n",
    "        \n",
    "        #print \"m, c, intercept : \\t\", m, c, intercept\n",
    "        \n",
    "        beta = N / sum([(y[i]- c - m*x[i])*(y[i]- c - m*x[i]) for i in range(N)]) #This gives nonsense result\n",
    "        \n",
    "        s_r = np.sqrt((s_yy - np.square(m)*s_xx)/(N-2) )\n",
    "        s_y = s_r * np.sqrt(1+1./N + (x-mean_x)**2/s_xx) \n",
    "        #s_x = s_r/m * sqrt(1./M + 1./N + (y_unk-mean_y)**2/(m**2*s_xx))\n",
    "        #print beta\n",
    "        #print s_r, np.mean(s_y)\n",
    "        \n",
    "        beta = np.mean(s_y) #This is the standard deviation that is calculated by the regression. \n",
    "        #It is not the actual std dev\n",
    "        \n",
    "    \n",
    "    \n",
    "    \n",
    "    \n",
    "    \n",
    "    \n",
    "    intercept_uncertainty = beta / m \n",
    "    \n",
    "    \n",
    "    return intercept, intercept_uncertainty\n",
    "    "
   ]
  },
  {
   "cell_type": "code",
   "execution_count": 5,
   "metadata": {},
   "outputs": [],
   "source": [
    "#Testing the linear regression function\n",
    "if False:\n",
    "    \n",
    "    if True:\n",
    "        l = [1, 2, 3, 4 ]\n",
    "\n",
    "        x_train = np.array(l)\n",
    "        y_train = np.array([2*i + 1 + np.random.normal(loc=0., scale=0.001) for i in l])\n",
    "\n",
    "    else:\n",
    "        l = [1, 2, 3, 4 ]\n",
    "        l1 = [1.5, 2.5]\n",
    "\n",
    "        x_train = np.array(l+l1)\n",
    "        y_train = np.array([2*i + 1 + np.random.normal(loc=0., scale=0.001) for i in l] +\n",
    "                          [3*i + 0.5 + np.random.normal(loc=0., scale=0.001) for i in l1])\n",
    "\n",
    "\n",
    "    #X_train = np.c_[1, 2, 3, 4 ].T\n",
    "    #y_train = [3, 5, ]\n",
    "    X_test = np.c_[0, 2].T\n",
    "    linear_regression(x_train, y_train)\n"
   ]
  },
  {
   "cell_type": "markdown",
   "metadata": {},
   "source": [
    "## Fill Bins"
   ]
  },
  {
   "cell_type": "code",
   "execution_count": 6,
   "metadata": {},
   "outputs": [
    {
     "name": "stdout",
     "output_type": "stream",
     "text": [
      "e_i :\t                  | \t0.0  out of  10.0k\n",
      "e_i :\t\n",
      "n_skipped_few_hits, n_skipped_vanishing_uncertainty / n_total :  1444  ,  0  /  1729\n",
      "Real PVs :  [ 149.25316414]\n",
      "Max predicted :  149.291075897 0.0111962917546\n"
     ]
    },
    {
     "name": "stderr",
     "output_type": "stream",
     "text": [
      "/usr/local/lib/python2.7/site-packages/ipykernel_launcher.py:22: RuntimeWarning: invalid value encountered in double_scalars\n",
      "/usr/local/lib/python2.7/site-packages/ipykernel_launcher.py:31: RuntimeWarning: invalid value encountered in divide\n",
      "/usr/local/lib/python2.7/site-packages/ipykernel_launcher.py:88: RuntimeWarning: divide by zero encountered in double_scalars\n",
      "/usr/local/lib/python2.7/site-packages/ipykernel_launcher.py:89: RuntimeWarning: divide by zero encountered in double_scalars\n"
     ]
    },
    {
     "name": "stdout",
     "output_type": "stream",
     "text": [
      "| | | | | | | | | | \t1.0  out of  10.0k\n",
      "e_i :\t| | | | | | | | | | \t2.0  out of  10.0k\n",
      "e_i :\t| | | | | | | | | | \t3.0  out of  10.0k\n",
      "e_i :\t| | | | | | | | | | \t4.0  out of  10.0k\n",
      "e_i :\t| | | | | | | | | | \t5.0  out of  10.0k\n",
      "e_i :\t| | | | | | | | | | \t6.0  out of  10.0k\n",
      "e_i :\t| | | | | | | | | | \t7.0  out of  10.0k\n",
      "e_i :\t| | | | | | | | | | \t8.0  out of  10.0k\n",
      "e_i :\t| | | | | | | | | | \t9.0  out of  10.0k\n",
      "e_i :\t| | | | | | | | | \n",
      "n_skipped_few_hits, n_skipped_vanishing_uncertainty, n_total, no_usable_bins ,no_maxima_found\n",
      "[5375235    1777 6291361       4       4]\n"
     ]
    },
    {
     "data": {
      "image/png": "[encoded data removed]",
      "text/plain": [
       "<matplotlib.figure.Figure at 0x11549c410>"
      ]
     },
     "metadata": {},
     "output_type": "display_data"
    }
   ],
   "source": [
    "# 0.1 milliradian corresponds to 63000 bins\n",
    "binning_scheme = [[10, 0],[10, 0.5]]\n",
    "#binning_scheme = [[63000, 0],[63000, 0.5]] # skipped many events\n",
    "binning_scheme = [[6300, 0],[6300, 0.5]]\n",
    "# 10, 0.5 means you divide 2 pi into 10 bins. the offset is 0.5 times a bin\n",
    "\n",
    "data_dict = t.arrays()\n",
    "\n",
    "pvr_x_pred = []\n",
    "\n",
    "\n",
    "n_events = len(data_dict[\"hit_x\"])\n",
    "\n",
    "status = []\n",
    "\n",
    "print \"e_i :\\t                 \",\n",
    "\n",
    "counter = 0\n",
    "for e_i in range(n_events):\n",
    "#for e_i in range(1):\n",
    "#for e_i in [869]: #Uncertainty valishes\n",
    "#for e_i in [6700]: #No maxima found\n",
    "    if (e_i%100==0 ): print \"|\",\n",
    "    if (e_i%1000==0 ): print \"\\t{}  out of  {}k\\ne_i :\\t\".format(e_i/1000., n_events/1000. ),\n",
    "    if e_i%10000==0: print_bool=True\n",
    "    else: print_bool=False\n",
    "\n",
    "    counter += 1\n",
    "    \n",
    "    bin_contents = []\n",
    "    for n_binning_scheme, (nbins, offset_bin_frac) in enumerate(binning_scheme):\n",
    "        bin_contents.append({})\n",
    "    \n",
    "    hit_phi = np.arctan2(data_dict[\"hit_y\"][e_i], data_dict[\"hit_x\"][e_i])\n",
    "    hit_r   = np.sqrt(np.square(data_dict[\"hit_y\"][e_i]) + np.square(data_dict[\"hit_x\"][e_i]))\n",
    "    #print hit_phi\n",
    "    \n",
    "    ##################################################\n",
    "    ### FILL BINS\n",
    "    ##################################################\n",
    "    for n_binning_scheme in range(len(binning_scheme)):\n",
    "        nbins, offset_bin_frac = binning_scheme[n_binning_scheme][0], binning_scheme[n_binning_scheme][1]\n",
    "        #vectorised and no bin definitions necessary\n",
    "        hit_phi_obs = hit_phi - 2.*np.pi*offset_bin_frac/nbins  #Rotating the bins with angle alpha is the same as rotating the point with angle - alpha\n",
    "        hit_phi_obs = hit_phi_obs % (2 * np.pi ) # taking care of modulo\n",
    "        hit_bins = (hit_phi_obs //(2 * np.pi / nbins)).astype(int)\n",
    "        \n",
    "\n",
    "        #print hit_phi_obs\n",
    "        #print len(hit_bins), hit_bins\n",
    "\n",
    "        for j, b in enumerate(hit_bins):\n",
    "            #bin_contents[n_binning_scheme][b].append([data_dict[\"hit_z\"][i][j], hit_r[j]])\n",
    "            if b in bin_contents[n_binning_scheme]:\n",
    "                bin_contents[n_binning_scheme][b].append([data_dict[\"hit_z\"][e_i][j], hit_r[j]])\n",
    "            else:\n",
    "                bin_contents[n_binning_scheme][b]=[[data_dict[\"hit_z\"][e_i][j], hit_r[j]]]\n",
    "                \n",
    "    #print counter\n",
    "    #print bin_contents\n",
    "    \n",
    "    \n",
    "    \n",
    "    ##################################################\n",
    "    ### DO REGRESSION\n",
    "    ##################################################\n",
    "    kernel_inputs_orig = []\n",
    "    for n_binning_scheme, (nbins, offset_bin_frac) in enumerate(binning_scheme):\n",
    "        kernel_inputs_orig.append([])\n",
    "\n",
    "    n_skipped_few_hits = 0\n",
    "    n_skipped_vanishing_uncertainty  = 0\n",
    "    n_total   = 0\n",
    "\n",
    "    \n",
    "    for n_binning_scheme in range(len(binning_scheme)):\n",
    "        nbins, offset_bin_frac = binning_scheme[n_binning_scheme][0], binning_scheme[n_binning_scheme][1]\n",
    "        for key in bin_contents[n_binning_scheme]:\n",
    "            n_total +=1\n",
    "            data = np.array(bin_contents[n_binning_scheme][key])\n",
    "            #print data.shape[0],\n",
    "            if (data.shape[0] < 3): n_skipped_few_hits+=1; continue\n",
    "            intercept, intercept_uncertainty = linear_regression(data[:, 0], data[:,1])\n",
    "            if (math.isnan(intercept_uncertainty) or intercept_uncertainty==0 ): \n",
    "                n_skipped_vanishing_uncertainty += 1\n",
    "                intercept_uncertainty = 1E-6\n",
    "                l1, l2= data[:, 0], data[:,1]\n",
    "                m1 = float(l2[1]-l2[0])/(l1[1]-l1[0])\n",
    "                m2 = float(l2[2]-l2[1])/(l1[2]-l1[1])\n",
    "                #print \"gradients : \", m1, m2\n",
    "                \n",
    "                #print \"data[:, 0], data[:,1] :\", data[:, 0], data[:,1]\n",
    "                #print [ 126.034164473,  176.0073111,   250.986510331][2], data[:, 0][2]\n",
    "                #print [ 126.034164473,  176.0073111,   250.986510331][0] ==data[:, 0][0], [ 14.61113696,  21.20112183,  31.0886678 ]==data[:,1].tolist()\n",
    "                #print linear_regression(data[:, 0], np.random.normal(data[:,1],1E-8*np.average(data[:,1])))\n",
    "                #print linear_regression(data[:, 0], data[:,1])\n",
    "                #print linear_regression([ 126.03416447,  176.0073111,   250.98651033], [ 14.61113696,  21.20112183,  31.0886678 ])\n",
    "            else:\n",
    "                #print \" intercept, intercept_uncertainty  : \", intercept, intercept_uncertainty\n",
    "                kernel_inputs_orig[n_binning_scheme].append([intercept, intercept_uncertainty])\n",
    "\n",
    "    \n",
    "    \n",
    "    #print kernel_inputs_orig\n",
    "    if print_bool : print \"\\nn_skipped_few_hits, n_skipped_vanishing_uncertainty / n_total : \", n_skipped_few_hits, \" , \", n_skipped_vanishing_uncertainty, \" / \", n_total\n",
    "        \n",
    "    if n_skipped_few_hits + n_skipped_vanishing_uncertainty == n_total:\n",
    "        no_usable_bins = 1\n",
    "        no_maxima_found = 1\n",
    "        status.append([n_skipped_few_hits, n_skipped_vanishing_uncertainty, n_total, no_usable_bins ,no_maxima_found])\n",
    "        pvr_x_pred.append([ [-300], [-1]])\n",
    "        continue\n",
    "    \n",
    "    ##################################################\n",
    "    ### KERNEL DENSITY ESTIMATION\n",
    "    ##################################################\n",
    "    \n",
    "    # Neither scipy.stats (gaussian_kde) not sklearn implementations allow to vary bandwidth on a per entry level\n",
    "    # Had to implement it myself\n",
    "\n",
    "    x_plot = np.linspace(-200, 400, 1200)\n",
    "    #x_plot = np.linspace(100, 200, 200)\n",
    "    #x_plot = np.linspace(-200, 400, 5)\n",
    "    y_plot = np.zeros(len(x_plot))\n",
    "    #X_plot = np.linspace(-200, 400, 1200)[:, np.newaxis]\n",
    "\n",
    "    kernel_inputs = []\n",
    "    for a in kernel_inputs_orig: kernel_inputs.extend(a)    #flatten binning scheme\n",
    "\n",
    "    kernel_inputs = np.array(kernel_inputs)\n",
    "    #print kernel_inputs\n",
    "    #print \"kernel_inputs.shape : \", kernel_inputs.shape\n",
    "    #print kernel_inputs\n",
    "\n",
    "\n",
    "    def gaussian(x, mu, sig):\n",
    "        return np.exp(-np.power(x - mu, 2.) / (2 * np.power(sig, 2.)))\n",
    "\n",
    "    for a in range(kernel_inputs.shape[0]):\n",
    "        #print \"y_plot : \", y_plot\n",
    "        y_plot += gaussian(x_plot, kernel_inputs[a,0], kernel_inputs[a,1])\n",
    "\n",
    "    #print \"y_plot : \", y_plot\n",
    "\n",
    "    #Normalise\n",
    "    # Compute the area using the composite trapezoidal rule.\n",
    "    area = np.trapz(y_plot, dx=(x_plot[1]- x_plot[0]))\n",
    "    #area = np.trapz(y_plot, dx=1./len(y_plot)) #Assuming x_max - x_min is 1\n",
    "    y_plot = y_plot/ area\n",
    "    #y_plot = y_plot/ np.linalg.norm(y_plot)\n",
    "\n",
    "\n",
    "    \n",
    "    \n",
    "    if print_bool : print \"Real PVs : \", data_dict[\"pvr_z\"][e_i]\n",
    "    \n",
    "    #if print_bool :\n",
    "    if True:\n",
    "        plt.clf()\n",
    "        plt.fill_between(x_plot, 0, y_plot)\n",
    "        plt.axvline(x=data_dict[\"pvr_z\"][e_i], color='r', lw=1., linestyle = '-.')\n",
    "        plt.fill_between(x_plot, 0, y_plot, color='b')\n",
    "        \n",
    "    \n",
    "    #widths = np.linspace(5,200,40)\n",
    "    #indexes = find_peaks_cwt(y_plot, widths)\n",
    "    #print \"indexes : \", indexes\n",
    "    \n",
    "    \n",
    "    if True:\n",
    "        # Finding Peaks in the Kernel Density Estimate. \n",
    "        # https://blog.ytotech.com/2015/11/01/findpeaks-in-python/\n",
    "        # for local maxima\n",
    "        indices = argrelextrema(y_plot, np.greater)[0]\n",
    "        #print indices\n",
    "        if len(indices) > 0:\n",
    "            index_max = indices[np.argmax(y_plot[indices])]\n",
    "            if print_bool : print \"Max predicted : \", x_plot[index_max], y_plot[index_max]\n",
    "            pvr_x_pred.append([ [x_plot[index_max]], [y_plot[index_max]]])\n",
    "            no_maxima_found = 0\n",
    "        else :\n",
    "            print \"y_plot : \", y_plot\n",
    "            no_maxima_found = 1\n",
    "            print \"No maxima found, e_i = \", e_i\n",
    "            pvr_x_pred.append([ [-300], [-1]])\n",
    "            \n",
    "        no_usable_bins = 0\n",
    "            \n",
    "    status.append([n_skipped_few_hits, n_skipped_vanishing_uncertainty, n_total, no_usable_bins ,no_maxima_found])\n",
    "    \n",
    "    \n",
    "print \"\\nn_skipped_few_hits, n_skipped_vanishing_uncertainty, n_total, no_usable_bins ,no_maxima_found\\n\", np.sum(np.array(status), axis=0)    \n",
    "#print pvr_x_pred"
   ]
  },
  {
   "cell_type": "code",
   "execution_count": 7,
   "metadata": {},
   "outputs": [
    {
     "name": "stdout",
     "output_type": "stream",
     "text": [
      "4\n"
     ]
    }
   ],
   "source": [
    "cntr = 0\n",
    "for i in range(n_events):\n",
    "    if pvr_x_pred[i][0][0]==-300:\n",
    "        cntr +=1\n",
    "print cntr"
   ]
  },
  {
   "cell_type": "code",
   "execution_count": 8,
   "metadata": {},
   "outputs": [
    {
     "name": "stdout",
     "output_type": "stream",
     "text": [
      "error_counter :  590  /  10000\n"
     ]
    },
    {
     "data": {
      "text/plain": [
       "<matplotlib.text.Text at 0x1158fe5d0>"
      ]
     },
     "execution_count": 8,
     "metadata": {},
     "output_type": "execute_result"
    },
    {
     "data": {
      "image/png": "[encoded data removed]",
      "text/plain": [
       "<matplotlib.figure.Figure at 0x10a2a4d50>"
      ]
     },
     "metadata": {},
     "output_type": "display_data"
    }
   ],
   "source": [
    "# This can only be used for 1 PV per event\n",
    "diff = []\n",
    "for i in range(n_events):\n",
    "#for i in range(1):\n",
    "    assert len(data_dict[\"pvr_z\"][i])==1\n",
    "    diff.append(abs(data_dict[\"pvr_z\"][i][0] - pvr_x_pred[i][0][0]))\n",
    "\n",
    "diff_reasonable = []\n",
    "error_counter = 0\n",
    "for _ in diff:\n",
    "    if _ < 2: diff_reasonable.append(_)\n",
    "    else: error_counter +=1\n",
    "    \n",
    "print \"error_counter : \", error_counter, \" / \", n_events\n",
    "\n",
    "n, bins, patches = plt.hist(np.clip(diff, 0, 2), bins=np.linspace(0,2,100)) # Make the last bin an overflow bin\n",
    "plt.xlabel(\"pvr_z : abs(truth - pred)\")\n",
    "plt.ylabel(\"Events\")"
   ]
  },
  {
   "cell_type": "code",
   "execution_count": null,
   "metadata": {},
   "outputs": [],
   "source": []
  },
  {
   "cell_type": "code",
   "execution_count": null,
   "metadata": {
    "collapsed": true
   },
   "outputs": [],
   "source": []
  },
  {
   "cell_type": "code",
   "execution_count": null,
   "metadata": {
    "collapsed": true
   },
   "outputs": [],
   "source": []
  },
  {
   "cell_type": "code",
   "execution_count": null,
   "metadata": {
    "collapsed": true
   },
   "outputs": [],
   "source": []
  },
  {
   "cell_type": "code",
   "execution_count": null,
   "metadata": {
    "collapsed": true
   },
   "outputs": [],
   "source": []
  },
  {
   "cell_type": "code",
   "execution_count": null,
   "metadata": {
    "collapsed": true
   },
   "outputs": [],
   "source": []
  },
  {
   "cell_type": "code",
   "execution_count": null,
   "metadata": {
    "collapsed": true
   },
   "outputs": [],
   "source": []
  }
 ],
 "metadata": {
  "kernelspec": {
   "display_name": "Python 2",
   "language": "python",
   "name": "python2"
  },
  "language_info": {
   "codemirror_mode": {
    "name": "ipython",
    "version": 2
   },
   "file_extension": ".py",
   "mimetype": "text/x-python",
   "name": "python",
   "nbconvert_exporter": "python",
   "pygments_lexer": "ipython2",
   "version": "2.7.14"
  }
 },
 "nbformat": 4,
 "nbformat_minor": 2
}
