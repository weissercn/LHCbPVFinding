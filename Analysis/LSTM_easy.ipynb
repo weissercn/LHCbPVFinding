{
 "cells": [
  {
   "cell_type": "code",
   "execution_count": 4,
   "metadata": {},
   "outputs": [],
   "source": [
    "#keras.preprocessing.sequence.pad_sequences(sequences, maxlen=None, dtype='int32',\n",
    "#    padding='pre', truncating='pre', value=0.)"
   ]
  },
  {
   "cell_type": "code",
   "execution_count": 5,
   "metadata": {
    "collapsed": true
   },
   "outputs": [],
   "source": [
    "import numpy as np\n",
    "from sklearn import preprocessing"
   ]
  },
  {
   "cell_type": "code",
   "execution_count": 6,
   "metadata": {
    "collapsed": true
   },
   "outputs": [],
   "source": [
    "def encode(labels):\n",
    "    return (labels -100)/300\n",
    "def decode(enc_labels):\n",
    "    return (labels*300)+100"
   ]
  },
  {
   "cell_type": "code",
   "execution_count": 7,
   "metadata": {
    "collapsed": true
   },
   "outputs": [],
   "source": [
    "number_to_train = 8000\n",
    "number_to_test =2000"
   ]
  },
  {
   "cell_type": "code",
   "execution_count": 10,
   "metadata": {},
   "outputs": [],
   "source": [
    "#features_fixed_nu_hits_orig = np.loadtxt(\"features_fixed_nu_hits2.csv\")\n",
    "#results_orig = np.loadtxt(\"results2.csv\")\n",
    "features_fixed_nu_hits_orig = np.load(\"features_fixed_nu_hits2_easy.npy\")\n",
    "results_orig = np.load(\"results2_easy.npy\")"
   ]
  },
  {
   "cell_type": "code",
   "execution_count": 11,
   "metadata": {},
   "outputs": [
    {
     "name": "stdout",
     "output_type": "stream",
     "text": [
      "(10000,) (10000, 1000, 3)\n",
      "[[[  8.04076342e-01   5.14007839e+00  -2.89010094e+02]\n",
      "  [ -5.20139323e+00  -7.85420461e-01   1.75958459e+02]\n",
      "  [ -1.16234310e+00  -5.13203462e+00   4.96997006e+02]\n",
      "  ..., \n",
      "  [ -1.55646975e+01   1.72426391e+01  -2.38978672e+02]\n",
      "  [  2.18445338e+01  -8.18394347e+00   1.88000276e+02]\n",
      "  [ -1.38551496e+01  -1.88109141e+01   7.60128975e+01]]\n",
      "\n",
      " [[  5.22592743e+00   3.67916895e-01  -2.27004249e+02]\n",
      "  [ -6.25112915e-01  -5.21428249e+00   1.30283544e+01]\n",
      "  [ -3.27319620e-01  -5.29447848e+00   1.12987782e+02]\n",
      "  ..., \n",
      "  [  0.00000000e+00   0.00000000e+00   0.00000000e+00]\n",
      "  [  0.00000000e+00   0.00000000e+00   0.00000000e+00]\n",
      "  [  0.00000000e+00   0.00000000e+00   0.00000000e+00]]\n",
      "\n",
      " [[  5.17388936e+00  -4.17068877e-01  -2.01980751e+02]\n",
      "  [ -5.14501858e+00   1.42360817e+00  -2.13993046e+02]\n",
      "  [ -6.38472762e-01  -5.43867831e+00   1.29739377e+01]\n",
      "  ..., \n",
      "  [  0.00000000e+00   0.00000000e+00   0.00000000e+00]\n",
      "  [  0.00000000e+00   0.00000000e+00   0.00000000e+00]\n",
      "  [  0.00000000e+00   0.00000000e+00   0.00000000e+00]]\n",
      "\n",
      " ..., \n",
      " [[  0.00000000e+00   0.00000000e+00   0.00000000e+00]\n",
      "  [  0.00000000e+00   0.00000000e+00   0.00000000e+00]\n",
      "  [  0.00000000e+00   0.00000000e+00   0.00000000e+00]\n",
      "  ..., \n",
      "  [  0.00000000e+00   0.00000000e+00   0.00000000e+00]\n",
      "  [  0.00000000e+00   0.00000000e+00   0.00000000e+00]\n",
      "  [  0.00000000e+00   0.00000000e+00   0.00000000e+00]]\n",
      "\n",
      " [[ -5.27261792e+00  -9.25939704e-01   4.84954943e+02]\n",
      "  [ -1.13771595e+00  -5.29396094e+00   4.02030725e+02]\n",
      "  [ -1.34631182e+00  -6.48904322e+00   4.96979548e+02]\n",
      "  ..., \n",
      "  [  0.00000000e+00   0.00000000e+00   0.00000000e+00]\n",
      "  [  0.00000000e+00   0.00000000e+00   0.00000000e+00]\n",
      "  [  0.00000000e+00   0.00000000e+00   0.00000000e+00]]\n",
      "\n",
      " [[  5.22813950e+00  -1.40146225e-01   2.37993933e+02]\n",
      "  [  5.19784175e-01   5.33450050e+00  -1.44028171e+02]\n",
      "  [ -1.12527300e-01  -5.41726889e+00  -2.77014208e+02]\n",
      "  ..., \n",
      "  [  0.00000000e+00   0.00000000e+00   0.00000000e+00]\n",
      "  [  0.00000000e+00   0.00000000e+00   0.00000000e+00]\n",
      "  [  0.00000000e+00   0.00000000e+00   0.00000000e+00]]]\n"
     ]
    }
   ],
   "source": [
    "results_enc = encode(results_orig)\n",
    "features_fixed_nu_hits = features_fixed_nu_hits_orig.reshape([-1,1000,3])\n",
    "print results_enc.shape, features_fixed_nu_hits.shape\n",
    "print features_fixed_nu_hits"
   ]
  },
  {
   "cell_type": "code",
   "execution_count": null,
   "metadata": {},
   "outputs": [],
   "source": [
    "scaler = preprocessing.StandardScaler()\n",
    "a = features_fixed_nu_hits\n",
    "\n",
    "c = np.array([a[:,:,0].flatten(), a[:,:,1].flatten(), a[:,:,2].flatten()]).T  ## collect all x , y and z values of all hits\n",
    "scaler.fit(c)\n",
    "\n",
    "for i in range(a.shape[0]):\n",
    "    tdata_contrib = scaler.transform(a[i,:,:])\n",
    "    if i==0:\n",
    "        transformed_data = [tdata_contrib]\n",
    "    else:\n",
    "        transformed_data = np.append(transformed_data, [tdata_contrib], axis=0)\n",
    "        \n",
    "    \n",
    "\n",
    "\n",
    "assert features_fixed_nu_hits.shape == transformed_data.shape\n",
    "features_fixed_nu_hits = transformed_data\n",
    "print features_fixed_nu_hits"
   ]
  },
  {
   "cell_type": "code",
   "execution_count": 13,
   "metadata": {},
   "outputs": [
    {
     "name": "stdout",
     "output_type": "stream",
     "text": [
      "Epoch 1/2\n",
      "8000/8000 [==============================] - 4742s - loss: 0.1130   \n",
      "Epoch 2/2\n",
      "8000/8000 [==============================] - 4170s - loss: 0.1136   \n"
     ]
    },
    {
     "data": {
      "text/plain": [
       "<keras.callbacks.History at 0x119c23e50>"
      ]
     },
     "execution_count": 13,
     "metadata": {},
     "output_type": "execute_result"
    }
   ],
   "source": [
    "from keras.layers import Input, Embedding, LSTM, Dense\n",
    "from keras.models import Model\n",
    "\n",
    "\n",
    "#fix number of hits\n",
    "# order in ascending value of rho\n",
    "\n",
    "\n",
    "from keras.layers import Input, Dense, Dropout, Flatten \n",
    "from keras.layers import Conv3D, MaxPooling3D\n",
    "from keras.models import Model\n",
    "\n",
    "# This returns a tensor\n",
    "inputs = Input(shape=(1000,3,)) # (number of hits per event), (x,y,z)\n",
    "#labels shape (,1)\n",
    "\n",
    "x = LSTM(256, return_sequences=False)(inputs)\n",
    "#x = Flatten()(inputs)\n",
    "\n",
    "\n",
    "\n",
    "# a layer instance is callable on a tensor, and returns a tensor\n",
    "\n",
    "x = Dense(256, activation='relu')(x)\n",
    "x = Dense(64, activation='relu')(x)\n",
    "predictions = Dense(1, activation='tanh')(x)\n",
    "\n",
    "# This creates a model that includes\n",
    "# the Input layer and three Dense layers\n",
    "model = Model(inputs=inputs, outputs=predictions)\n",
    "model.compile(optimizer='rmsprop',\n",
    "              loss='mse',   #mean squared error\n",
    "              metrics=[])\n",
    "model.fit(features_fixed_nu_hits[:number_to_train,:,:], results_enc[:number_to_train], epochs=2, batch_size=25)  # starts training\n",
    "\n",
    "\n"
   ]
  },
  {
   "cell_type": "code",
   "execution_count": null,
   "metadata": {
    "collapsed": true
   },
   "outputs": [],
   "source": []
  },
  {
   "cell_type": "code",
   "execution_count": 14,
   "metadata": {},
   "outputs": [
    {
     "name": "stdout",
     "output_type": "stream",
     "text": [
      "2000/2000 [==============================] - 61s    \n"
     ]
    },
    {
     "data": {
      "text/plain": [
       "0.11113754259422422"
      ]
     },
     "execution_count": 14,
     "metadata": {},
     "output_type": "execute_result"
    }
   ],
   "source": [
    "model.evaluate(features_fixed_nu_hits[number_to_train:number_to_train+number_to_test,:], results_enc[number_to_train:number_to_train+number_to_test], batch_size=25)"
   ]
  },
  {
   "cell_type": "code",
   "execution_count": null,
   "metadata": {
    "collapsed": true
   },
   "outputs": [],
   "source": [
    "predicted = model.predict(features_fixed_nu_hits[number_to_train:number_to_train+number_to_test,:])"
   ]
  },
  {
   "cell_type": "markdown",
   "metadata": {},
   "source": [
    "predicted = model.predict(features_fixed_nu_hits[number_to_train:number_to_train+number_to_test,:])"
   ]
  },
  {
   "cell_type": "code",
   "execution_count": null,
   "metadata": {},
   "outputs": [],
   "source": [
    "print predicted, results_enc[number_to_train:number_to_train+number_to_test]"
   ]
  },
  {
   "cell_type": "code",
   "execution_count": null,
   "metadata": {
    "collapsed": true
   },
   "outputs": [],
   "source": []
  }
 ],
 "metadata": {
  "kernelspec": {
   "display_name": "Python 2",
   "language": "python",
   "name": "python2"
  },
  "language_info": {
   "codemirror_mode": {
    "name": "ipython",
    "version": 2
   },
   "file_extension": ".py",
   "mimetype": "text/x-python",
   "name": "python",
   "nbconvert_exporter": "python",
   "pygments_lexer": "ipython2",
   "version": "2.7.14"
  }
 },
 "nbformat": 4,
 "nbformat_minor": 2
}
